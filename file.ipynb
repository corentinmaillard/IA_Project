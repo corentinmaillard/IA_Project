{
 "cells": [
  {
   "cell_type": "markdown",
   "metadata": {},
   "source": [
    "# ML Project : Predicting Movie Revenue\n",
    "Made by:\n",
    "\n",
    "Corentin Maillard 21306\n",
    "\n",
    "Mourad Mettioui 195019"
   ]
  },
  {
   "cell_type": "markdown",
   "metadata": {},
   "source": [
    "## A) Data Understanding and analysis"
   ]
  },
  {
   "cell_type": "markdown",
   "metadata": {},
   "source": [
    "### 1) Load the Dataset and libraries"
   ]
  },
  {
   "cell_type": "code",
   "execution_count": 49,
   "metadata": {},
   "outputs": [],
   "source": [
    "import pandas as pd\n",
    "import matplotlib.pyplot as plt\n",
    "import seaborn as sns\n",
    "import numpy as np\n",
    "\n",
    "dataset_file_path = 'dataset.csv'\n",
    "dataset_supplement_file_path = 'dataset_supplement.csv'\n",
    "# transform the first collum into an index\n",
    "dataset_data = pd.read_csv(dataset_file_path, index_col=0)\n",
    "dataset_supplement_data = pd.read_csv(dataset_supplement_file_path, index_col=0)\n",
    "\n",
    "dataset_supplement_data.drop(columns=['title'], inplace=True)\n",
    "left = dataset_data.set_index(['id'])\n",
    "right = dataset_supplement_data.set_index(['movie_id'])\n",
    "data_combind = left.join(right)\n",
    "# data_combind.set_index(['id'])\n",
    "data_combind = data_combind.sort_values(by = 'id')\n",
    "# y = data_combind['revenue']\n",
    "# data_combind.drop(columns = [\"revenue\"], inplace = True)\n",
    "data_combind_initial = data_combind.copy()\n"
   ]
  },
  {
   "cell_type": "markdown",
   "metadata": {},
   "source": [
    "### 2) Undersand the structure of the dataset"
   ]
  },
  {
   "cell_type": "code",
   "execution_count": 50,
   "metadata": {},
   "outputs": [
    {
     "data": {
      "text/html": [
       "<div>\n",
       "<style scoped>\n",
       "    .dataframe tbody tr th:only-of-type {\n",
       "        vertical-align: middle;\n",
       "    }\n",
       "\n",
       "    .dataframe tbody tr th {\n",
       "        vertical-align: top;\n",
       "    }\n",
       "\n",
       "    .dataframe thead th {\n",
       "        text-align: right;\n",
       "    }\n",
       "</style>\n",
       "<table border=\"1\" class=\"dataframe\">\n",
       "  <thead>\n",
       "    <tr style=\"text-align: right;\">\n",
       "      <th></th>\n",
       "      <th>vote_count</th>\n",
       "      <th>vote_average</th>\n",
       "      <th>title</th>\n",
       "      <th>tagline</th>\n",
       "      <th>status</th>\n",
       "      <th>spoken_languages</th>\n",
       "      <th>duration</th>\n",
       "      <th>revenue</th>\n",
       "      <th>release</th>\n",
       "      <th>countries_of_production</th>\n",
       "      <th>...</th>\n",
       "      <th>popularity</th>\n",
       "      <th>overview</th>\n",
       "      <th>original_title</th>\n",
       "      <th>original_language</th>\n",
       "      <th>keywords</th>\n",
       "      <th>homepage</th>\n",
       "      <th>genres</th>\n",
       "      <th>financial_investment</th>\n",
       "      <th>actors</th>\n",
       "      <th>production_crew</th>\n",
       "    </tr>\n",
       "    <tr>\n",
       "      <th>id</th>\n",
       "      <th></th>\n",
       "      <th></th>\n",
       "      <th></th>\n",
       "      <th></th>\n",
       "      <th></th>\n",
       "      <th></th>\n",
       "      <th></th>\n",
       "      <th></th>\n",
       "      <th></th>\n",
       "      <th></th>\n",
       "      <th></th>\n",
       "      <th></th>\n",
       "      <th></th>\n",
       "      <th></th>\n",
       "      <th></th>\n",
       "      <th></th>\n",
       "      <th></th>\n",
       "      <th></th>\n",
       "      <th></th>\n",
       "      <th></th>\n",
       "      <th></th>\n",
       "    </tr>\n",
       "  </thead>\n",
       "  <tbody>\n",
       "    <tr>\n",
       "      <th>5</th>\n",
       "      <td>530</td>\n",
       "      <td>6.5</td>\n",
       "      <td>Four Rooms</td>\n",
       "      <td>Twelve outrageous guests. Four scandalous requ...</td>\n",
       "      <td>Released</td>\n",
       "      <td>[{\"iso_639_1\": \"en\", \"name\": \"English\"}]</td>\n",
       "      <td>98.0</td>\n",
       "      <td>4300000.0</td>\n",
       "      <td>1995-12-09</td>\n",
       "      <td>[{\"iso_3166_1\": \"US\", \"name\": \"United States o...</td>\n",
       "      <td>...</td>\n",
       "      <td>22.876230</td>\n",
       "      <td>It's Ted the Bellhop's first night on the job....</td>\n",
       "      <td>Four Rooms</td>\n",
       "      <td>en</td>\n",
       "      <td>[{\"id\": 612, \"name\": \"hotel\"}, {\"id\": 613, \"na...</td>\n",
       "      <td>NaN</td>\n",
       "      <td>[{\"id\": 80, \"name\": \"Crime\"}, {\"id\": 35, \"name...</td>\n",
       "      <td>4000000.0</td>\n",
       "      <td>[{\"cast_id\": 42, \"character\": \"Ted the Bellhop...</td>\n",
       "      <td>[{\"credit_id\": \"52fe420dc3a36847f800012d\", \"de...</td>\n",
       "    </tr>\n",
       "    <tr>\n",
       "      <th>11</th>\n",
       "      <td>6624</td>\n",
       "      <td>NaN</td>\n",
       "      <td>Star Wars</td>\n",
       "      <td>A long time ago in a galaxy far, far away...</td>\n",
       "      <td>Released</td>\n",
       "      <td>[{\"iso_639_1\": \"en\", \"name\": \"English\"}]</td>\n",
       "      <td>121.0</td>\n",
       "      <td>775398007.0</td>\n",
       "      <td>1977-05-25</td>\n",
       "      <td>[{\"iso_3166_1\": \"US\", \"name\": \"United States o...</td>\n",
       "      <td>...</td>\n",
       "      <td>126.393695</td>\n",
       "      <td>Princess Leia is captured and held hostage by ...</td>\n",
       "      <td>Star Wars</td>\n",
       "      <td>en</td>\n",
       "      <td>[{\"id\": 803, \"name\": \"android\"}, {\"id\": 4270, ...</td>\n",
       "      <td>http://www.starwars.com/films/star-wars-episod...</td>\n",
       "      <td>[{\"id\": 12, \"name\": \"Adventure\"}, {\"id\": 28, \"...</td>\n",
       "      <td>11000000.0</td>\n",
       "      <td>[{\"cast_id\": 3, \"character\": \"Luke Skywalker\",...</td>\n",
       "      <td>[{\"credit_id\": \"52fe420dc3a36847f8000437\", \"de...</td>\n",
       "    </tr>\n",
       "    <tr>\n",
       "      <th>12</th>\n",
       "      <td>6122</td>\n",
       "      <td>7.6</td>\n",
       "      <td>Finding Nemo</td>\n",
       "      <td>There are 3.7 trillion fish in the ocean, they...</td>\n",
       "      <td>Released</td>\n",
       "      <td>[{\"iso_639_1\": \"en\", \"name\": \"English\"}]</td>\n",
       "      <td>100.0</td>\n",
       "      <td>940335536.0</td>\n",
       "      <td>2003-05-30</td>\n",
       "      <td>[{\"iso_3166_1\": \"US\", \"name\": \"United States o...</td>\n",
       "      <td>...</td>\n",
       "      <td>85.688789</td>\n",
       "      <td>Nemo, an adventurous young clownfish, is unexp...</td>\n",
       "      <td>Finding Nemo</td>\n",
       "      <td>en</td>\n",
       "      <td>[{\"id\": 494, \"name\": \"father son relationship\"...</td>\n",
       "      <td>http://movies.disney.com/finding-nemo</td>\n",
       "      <td>[{\"id\": 16, \"name\": \"Animation\"}, {\"id\": 10751...</td>\n",
       "      <td>94000000.0</td>\n",
       "      <td>[{\"cast_id\": 8, \"character\": \"Marlin (voice)\",...</td>\n",
       "      <td>[{\"credit_id\": \"52fe420ec3a36847f80006b1\", \"de...</td>\n",
       "    </tr>\n",
       "    <tr>\n",
       "      <th>13</th>\n",
       "      <td>7927</td>\n",
       "      <td>8.2</td>\n",
       "      <td>Forrest Gump</td>\n",
       "      <td>The world will never be the same, once you've ...</td>\n",
       "      <td>Released</td>\n",
       "      <td>[{\"iso_639_1\": \"en\", \"name\": \"English\"}]</td>\n",
       "      <td>142.0</td>\n",
       "      <td>677945399.0</td>\n",
       "      <td>1994-07-06</td>\n",
       "      <td>[{\"iso_3166_1\": \"US\", \"name\": \"United States o...</td>\n",
       "      <td>...</td>\n",
       "      <td>138.133331</td>\n",
       "      <td>A man with a low IQ has accomplished great thi...</td>\n",
       "      <td>Forrest Gump</td>\n",
       "      <td>en</td>\n",
       "      <td>[{\"id\": 422, \"name\": \"vietnam veteran\"}, {\"id\"...</td>\n",
       "      <td>NaN</td>\n",
       "      <td>[{\"id\": 35, \"name\": \"Comedy\"}, {\"id\": 18, \"nam...</td>\n",
       "      <td>55000000.0</td>\n",
       "      <td>[{\"cast_id\": 7, \"character\": \"Forrest Gump\", \"...</td>\n",
       "      <td>[{\"credit_id\": \"52fe420ec3a36847f800076b\", \"de...</td>\n",
       "    </tr>\n",
       "    <tr>\n",
       "      <th>14</th>\n",
       "      <td>3313</td>\n",
       "      <td>7.9</td>\n",
       "      <td>American Beauty</td>\n",
       "      <td>Look closer.</td>\n",
       "      <td>Released</td>\n",
       "      <td>[{\"iso_639_1\": \"en\", \"name\": \"English\"}]</td>\n",
       "      <td>122.0</td>\n",
       "      <td>356296601.0</td>\n",
       "      <td>1999-09-15</td>\n",
       "      <td>[{\"iso_3166_1\": \"US\", \"name\": \"United States o...</td>\n",
       "      <td>...</td>\n",
       "      <td>80.878605</td>\n",
       "      <td>Lester Burnham, a depressed suburban father in...</td>\n",
       "      <td>American Beauty</td>\n",
       "      <td>en</td>\n",
       "      <td>[{\"id\": 255, \"name\": \"male nudity\"}, {\"id\": 29...</td>\n",
       "      <td>http://www.dreamworks.com/ab/</td>\n",
       "      <td>[{\"id\": 18, \"name\": \"Drama\"}]</td>\n",
       "      <td>15000000.0</td>\n",
       "      <td>[{\"cast_id\": 6, \"character\": \"Lester Burnham\",...</td>\n",
       "      <td>[{\"credit_id\": \"52fe420ec3a36847f8000809\", \"de...</td>\n",
       "    </tr>\n",
       "  </tbody>\n",
       "</table>\n",
       "<p>5 rows × 21 columns</p>\n",
       "</div>"
      ],
      "text/plain": [
       "    vote_count  vote_average            title  \\\n",
       "id                                              \n",
       "5          530           6.5       Four Rooms   \n",
       "11        6624           NaN        Star Wars   \n",
       "12        6122           7.6     Finding Nemo   \n",
       "13        7927           8.2     Forrest Gump   \n",
       "14        3313           7.9  American Beauty   \n",
       "\n",
       "                                              tagline    status  \\\n",
       "id                                                                \n",
       "5   Twelve outrageous guests. Four scandalous requ...  Released   \n",
       "11       A long time ago in a galaxy far, far away...  Released   \n",
       "12  There are 3.7 trillion fish in the ocean, they...  Released   \n",
       "13  The world will never be the same, once you've ...  Released   \n",
       "14                                       Look closer.  Released   \n",
       "\n",
       "                            spoken_languages  duration      revenue  \\\n",
       "id                                                                    \n",
       "5   [{\"iso_639_1\": \"en\", \"name\": \"English\"}]      98.0    4300000.0   \n",
       "11  [{\"iso_639_1\": \"en\", \"name\": \"English\"}]     121.0  775398007.0   \n",
       "12  [{\"iso_639_1\": \"en\", \"name\": \"English\"}]     100.0  940335536.0   \n",
       "13  [{\"iso_639_1\": \"en\", \"name\": \"English\"}]     142.0  677945399.0   \n",
       "14  [{\"iso_639_1\": \"en\", \"name\": \"English\"}]     122.0  356296601.0   \n",
       "\n",
       "       release                            countries_of_production  ...  \\\n",
       "id                                                                 ...   \n",
       "5   1995-12-09  [{\"iso_3166_1\": \"US\", \"name\": \"United States o...  ...   \n",
       "11  1977-05-25  [{\"iso_3166_1\": \"US\", \"name\": \"United States o...  ...   \n",
       "12  2003-05-30  [{\"iso_3166_1\": \"US\", \"name\": \"United States o...  ...   \n",
       "13  1994-07-06  [{\"iso_3166_1\": \"US\", \"name\": \"United States o...  ...   \n",
       "14  1999-09-15  [{\"iso_3166_1\": \"US\", \"name\": \"United States o...  ...   \n",
       "\n",
       "    popularity                                           overview  \\\n",
       "id                                                                  \n",
       "5    22.876230  It's Ted the Bellhop's first night on the job....   \n",
       "11  126.393695  Princess Leia is captured and held hostage by ...   \n",
       "12   85.688789  Nemo, an adventurous young clownfish, is unexp...   \n",
       "13  138.133331  A man with a low IQ has accomplished great thi...   \n",
       "14   80.878605  Lester Burnham, a depressed suburban father in...   \n",
       "\n",
       "     original_title original_language  \\\n",
       "id                                      \n",
       "5        Four Rooms                en   \n",
       "11        Star Wars                en   \n",
       "12     Finding Nemo                en   \n",
       "13     Forrest Gump                en   \n",
       "14  American Beauty                en   \n",
       "\n",
       "                                             keywords  \\\n",
       "id                                                      \n",
       "5   [{\"id\": 612, \"name\": \"hotel\"}, {\"id\": 613, \"na...   \n",
       "11  [{\"id\": 803, \"name\": \"android\"}, {\"id\": 4270, ...   \n",
       "12  [{\"id\": 494, \"name\": \"father son relationship\"...   \n",
       "13  [{\"id\": 422, \"name\": \"vietnam veteran\"}, {\"id\"...   \n",
       "14  [{\"id\": 255, \"name\": \"male nudity\"}, {\"id\": 29...   \n",
       "\n",
       "                                             homepage  \\\n",
       "id                                                      \n",
       "5                                                 NaN   \n",
       "11  http://www.starwars.com/films/star-wars-episod...   \n",
       "12              http://movies.disney.com/finding-nemo   \n",
       "13                                                NaN   \n",
       "14                      http://www.dreamworks.com/ab/   \n",
       "\n",
       "                                               genres financial_investment  \\\n",
       "id                                                                           \n",
       "5   [{\"id\": 80, \"name\": \"Crime\"}, {\"id\": 35, \"name...            4000000.0   \n",
       "11  [{\"id\": 12, \"name\": \"Adventure\"}, {\"id\": 28, \"...           11000000.0   \n",
       "12  [{\"id\": 16, \"name\": \"Animation\"}, {\"id\": 10751...           94000000.0   \n",
       "13  [{\"id\": 35, \"name\": \"Comedy\"}, {\"id\": 18, \"nam...           55000000.0   \n",
       "14                      [{\"id\": 18, \"name\": \"Drama\"}]           15000000.0   \n",
       "\n",
       "                                               actors  \\\n",
       "id                                                      \n",
       "5   [{\"cast_id\": 42, \"character\": \"Ted the Bellhop...   \n",
       "11  [{\"cast_id\": 3, \"character\": \"Luke Skywalker\",...   \n",
       "12  [{\"cast_id\": 8, \"character\": \"Marlin (voice)\",...   \n",
       "13  [{\"cast_id\": 7, \"character\": \"Forrest Gump\", \"...   \n",
       "14  [{\"cast_id\": 6, \"character\": \"Lester Burnham\",...   \n",
       "\n",
       "                                      production_crew  \n",
       "id                                                     \n",
       "5   [{\"credit_id\": \"52fe420dc3a36847f800012d\", \"de...  \n",
       "11  [{\"credit_id\": \"52fe420dc3a36847f8000437\", \"de...  \n",
       "12  [{\"credit_id\": \"52fe420ec3a36847f80006b1\", \"de...  \n",
       "13  [{\"credit_id\": \"52fe420ec3a36847f800076b\", \"de...  \n",
       "14  [{\"credit_id\": \"52fe420ec3a36847f8000809\", \"de...  \n",
       "\n",
       "[5 rows x 21 columns]"
      ]
     },
     "execution_count": 50,
     "metadata": {},
     "output_type": "execute_result"
    }
   ],
   "source": [
    "# examine the contents of the resultant Dataset using the head() command, which grabs the first five rows:\n",
    "data_combind_initial.head()"
   ]
  },
  {
   "cell_type": "markdown",
   "metadata": {},
   "source": [
    "We can see the different features which are:\n",
    "- vote count\n",
    "- vote average\n",
    "- title\n",
    "- tagline\n",
    "- status\n",
    "- spoken languages\n",
    "- duration\n",
    "- release\n",
    "- countries_of_production\n",
    "- production\n",
    "- popularity\n",
    "- overview\n",
    "- original_title\n",
    "- original_language\n",
    "- keywords\n",
    "- homepage\n",
    "- genres\n",
    "- financial_investment\n",
    "- actors\n",
    "- production_crew\n",
    "\n",
    "And we have the target : \n",
    "- revenue"
   ]
  },
  {
   "cell_type": "markdown",
   "metadata": {},
   "source": [
    "We are going to see if all the data that we have are complete"
   ]
  },
  {
   "cell_type": "code",
   "execution_count": 51,
   "metadata": {},
   "outputs": [
    {
     "name": "stdout",
     "output_type": "stream",
     "text": [
      "<class 'pandas.core.frame.DataFrame'>\n",
      "Index: 4803 entries, 5 to 459488\n",
      "Data columns (total 21 columns):\n",
      " #   Column                   Non-Null Count  Dtype  \n",
      "---  ------                   --------------  -----  \n",
      " 0   vote_count               4803 non-null   int64  \n",
      " 1   vote_average             4323 non-null   float64\n",
      " 2   title                    4803 non-null   object \n",
      " 3   tagline                  3959 non-null   object \n",
      " 4   status                   4803 non-null   object \n",
      " 5   spoken_languages         4803 non-null   object \n",
      " 6   duration                 4801 non-null   float64\n",
      " 7   revenue                  4755 non-null   float64\n",
      " 8   release                  4802 non-null   object \n",
      " 9   countries_of_production  4803 non-null   object \n",
      " 10  production               4803 non-null   object \n",
      " 11  popularity               4803 non-null   float64\n",
      " 12  overview                 4800 non-null   object \n",
      " 13  original_title           4803 non-null   object \n",
      " 14  original_language        4563 non-null   object \n",
      " 15  keywords                 4803 non-null   object \n",
      " 16  homepage                 1712 non-null   object \n",
      " 17  genres                   4803 non-null   object \n",
      " 18  financial_investment     4419 non-null   float64\n",
      " 19  actors                   4803 non-null   object \n",
      " 20  production_crew          4803 non-null   object \n",
      "dtypes: float64(5), int64(1), object(15)\n",
      "memory usage: 825.5+ KB\n"
     ]
    }
   ],
   "source": [
    "data_combind_initial.info()"
   ]
  },
  {
   "cell_type": "markdown",
   "metadata": {},
   "source": [
    "we can also use the isnull().sum() to see directly how many data are missing"
   ]
  },
  {
   "cell_type": "code",
   "execution_count": 52,
   "metadata": {},
   "outputs": [
    {
     "data": {
      "text/plain": [
       "vote_count                    0\n",
       "vote_average                480\n",
       "title                         0\n",
       "tagline                     844\n",
       "status                        0\n",
       "spoken_languages              0\n",
       "duration                      2\n",
       "revenue                      48\n",
       "release                       1\n",
       "countries_of_production       0\n",
       "production                    0\n",
       "popularity                    0\n",
       "overview                      3\n",
       "original_title                0\n",
       "original_language           240\n",
       "keywords                      0\n",
       "homepage                   3091\n",
       "genres                        0\n",
       "financial_investment        384\n",
       "actors                        0\n",
       "production_crew               0\n",
       "dtype: int64"
      ]
     },
     "execution_count": 52,
     "metadata": {},
     "output_type": "execute_result"
    }
   ],
   "source": [
    "data_combind_initial.isnull().sum()"
   ]
  },
  {
   "cell_type": "markdown",
   "metadata": {},
   "source": [
    "### 1) Feature Selection"
   ]
  },
  {
   "cell_type": "markdown",
   "metadata": {},
   "source": [
    "We can see that they are 3091 null homepage entries on 4803, so we will discard this feature because they are too many missing datas."
   ]
  },
  {
   "cell_type": "code",
   "execution_count": 53,
   "metadata": {},
   "outputs": [],
   "source": [
    "data_combind.drop(columns=['homepage'], inplace=True)"
   ]
  },
  {
   "cell_type": "markdown",
   "metadata": {},
   "source": [
    "We are going to see if all the datas are different or not"
   ]
  },
  {
   "cell_type": "code",
   "execution_count": 54,
   "metadata": {},
   "outputs": [
    {
     "data": {
      "text/plain": [
       "vote_count                 1609\n",
       "vote_average                 70\n",
       "title                      4800\n",
       "tagline                    3944\n",
       "status                        3\n",
       "spoken_languages            544\n",
       "duration                    156\n",
       "revenue                    3268\n",
       "release                    3280\n",
       "countries_of_production     469\n",
       "production                 3697\n",
       "popularity                 4802\n",
       "overview                   4800\n",
       "original_title             4801\n",
       "original_language            37\n",
       "keywords                   4222\n",
       "genres                     1175\n",
       "financial_investment        412\n",
       "actors                     4761\n",
       "production_crew            4776\n",
       "dtype: int64"
      ]
     },
     "execution_count": 54,
     "metadata": {},
     "output_type": "execute_result"
    }
   ],
   "source": [
    "data_combind.nunique()"
   ]
  },
  {
   "cell_type": "markdown",
   "metadata": {},
   "source": [
    "We will not use the original_title column because it's different from the title column in a very rare case 261/4803, in all other cases it's the same so this feature isn't relevant.\n"
   ]
  },
  {
   "cell_type": "code",
   "execution_count": 55,
   "metadata": {},
   "outputs": [
    {
     "name": "stdout",
     "output_type": "stream",
     "text": [
      "values different :  261 / 4803\n"
     ]
    }
   ],
   "source": [
    "n = 0\n",
    "j = 0\n",
    "for i in data_combind.index:\n",
    "    if data_combind.title[i] != data_combind.original_title[i]:\n",
    "        n+=1\n",
    "    j+=1\n",
    "print(\"values different : \", n , \"/\" , j)\n",
    "data_combind.drop(columns=['original_title'], inplace=True)"
   ]
  },
  {
   "cell_type": "markdown",
   "metadata": {},
   "source": [
    "We will discard the columns overview and tagline because they are only texts that provide a brief summary of the film. Also, this is not relevant because it has nothing to do with the revenue, and it will not be well treated by the model.\n",
    "The title column will also be dropped because it contains the same information as the overview and tagline. However, it is in a smaller text format but it's still a text format that the model can't handle."
   ]
  },
  {
   "cell_type": "code",
   "execution_count": 56,
   "metadata": {},
   "outputs": [],
   "source": [
    "data_combind.drop(columns=['overview'], inplace=True)\n",
    "data_combind.drop(columns=['tagline'], inplace=True)\n",
    "data_combind.drop(columns=['title'], inplace=True)"
   ]
  },
  {
   "cell_type": "markdown",
   "metadata": {},
   "source": [
    "The status column is quite impactful on revenue because if the status is \"Rumored\", then the revenue will be 0, but if it is \"Released\", then it will have a value. However, there are only 5 rows with the \"Rumored\" status for over 4,000 entries. The ratio is too small to be relevant, so we will discard this column."
   ]
  },
  {
   "cell_type": "code",
   "execution_count": 57,
   "metadata": {},
   "outputs": [
    {
     "data": {
      "text/html": [
       "<div>\n",
       "<style scoped>\n",
       "    .dataframe tbody tr th:only-of-type {\n",
       "        vertical-align: middle;\n",
       "    }\n",
       "\n",
       "    .dataframe tbody tr th {\n",
       "        vertical-align: top;\n",
       "    }\n",
       "\n",
       "    .dataframe thead th {\n",
       "        text-align: right;\n",
       "    }\n",
       "</style>\n",
       "<table border=\"1\" class=\"dataframe\">\n",
       "  <thead>\n",
       "    <tr style=\"text-align: right;\">\n",
       "      <th></th>\n",
       "      <th>vote_count</th>\n",
       "      <th>vote_average</th>\n",
       "      <th>status</th>\n",
       "      <th>spoken_languages</th>\n",
       "      <th>duration</th>\n",
       "      <th>revenue</th>\n",
       "      <th>release</th>\n",
       "      <th>countries_of_production</th>\n",
       "      <th>production</th>\n",
       "      <th>popularity</th>\n",
       "      <th>original_language</th>\n",
       "      <th>keywords</th>\n",
       "      <th>genres</th>\n",
       "      <th>financial_investment</th>\n",
       "      <th>actors</th>\n",
       "      <th>production_crew</th>\n",
       "    </tr>\n",
       "    <tr>\n",
       "      <th>id</th>\n",
       "      <th></th>\n",
       "      <th></th>\n",
       "      <th></th>\n",
       "      <th></th>\n",
       "      <th></th>\n",
       "      <th></th>\n",
       "      <th></th>\n",
       "      <th></th>\n",
       "      <th></th>\n",
       "      <th></th>\n",
       "      <th></th>\n",
       "      <th></th>\n",
       "      <th></th>\n",
       "      <th></th>\n",
       "      <th></th>\n",
       "      <th></th>\n",
       "    </tr>\n",
       "  </thead>\n",
       "  <tbody>\n",
       "    <tr>\n",
       "      <th>40963</th>\n",
       "      <td>1</td>\n",
       "      <td>10.0</td>\n",
       "      <td>Rumored</td>\n",
       "      <td>[{\"iso_639_1\": \"en\", \"name\": \"English\"}]</td>\n",
       "      <td>0.0</td>\n",
       "      <td>0.0</td>\n",
       "      <td>2006-01-01</td>\n",
       "      <td>[{\"iso_3166_1\": \"US\", \"name\": \"United States o...</td>\n",
       "      <td>[{\"name\": \"Fly High Films\", \"id\": 24248}]</td>\n",
       "      <td>0.092100</td>\n",
       "      <td>en</td>\n",
       "      <td>[{\"id\": 10183, \"name\": \"independent film\"}]</td>\n",
       "      <td>[{\"id\": 35, \"name\": \"Comedy\"}]</td>\n",
       "      <td>0.0</td>\n",
       "      <td>[{\"cast_id\": 0, \"character\": \"Seymour\", \"credi...</td>\n",
       "      <td>[]</td>\n",
       "    </tr>\n",
       "    <tr>\n",
       "      <th>43630</th>\n",
       "      <td>2</td>\n",
       "      <td>4.8</td>\n",
       "      <td>Rumored</td>\n",
       "      <td>[{\"iso_639_1\": \"en\", \"name\": \"English\"}]</td>\n",
       "      <td>97.0</td>\n",
       "      <td>0.0</td>\n",
       "      <td>2005-01-01</td>\n",
       "      <td>[{\"iso_3166_1\": \"US\", \"name\": \"United States o...</td>\n",
       "      <td>[]</td>\n",
       "      <td>0.020600</td>\n",
       "      <td>en</td>\n",
       "      <td>[]</td>\n",
       "      <td>[{\"id\": 28, \"name\": \"Action\"}, {\"id\": 35, \"nam...</td>\n",
       "      <td>0.0</td>\n",
       "      <td>[]</td>\n",
       "      <td>[]</td>\n",
       "    </tr>\n",
       "    <tr>\n",
       "      <th>57294</th>\n",
       "      <td>1</td>\n",
       "      <td>7.0</td>\n",
       "      <td>Rumored</td>\n",
       "      <td>[{\"iso_639_1\": \"en\", \"name\": \"English\"}]</td>\n",
       "      <td>93.0</td>\n",
       "      <td>0.0</td>\n",
       "      <td>2009-06-01</td>\n",
       "      <td>[{\"iso_3166_1\": \"GB\", \"name\": \"United Kingdom\"}]</td>\n",
       "      <td>[{\"name\": \"Scottish Screen\", \"id\": 698}, {\"nam...</td>\n",
       "      <td>0.108135</td>\n",
       "      <td>en</td>\n",
       "      <td>[{\"id\": 1930, \"name\": \"kidnapping\"}, {\"id\": 97...</td>\n",
       "      <td>[{\"id\": 35, \"name\": \"Comedy\"}, {\"id\": 18, \"nam...</td>\n",
       "      <td>0.0</td>\n",
       "      <td>[{\"cast_id\": 3, \"character\": \"Joey Frisk\", \"cr...</td>\n",
       "      <td>[{\"credit_id\": \"52fe492dc3a36847f818d031\", \"de...</td>\n",
       "    </tr>\n",
       "    <tr>\n",
       "      <th>70875</th>\n",
       "      <td>0</td>\n",
       "      <td>0.0</td>\n",
       "      <td>Rumored</td>\n",
       "      <td>[]</td>\n",
       "      <td>80.0</td>\n",
       "      <td>0.0</td>\n",
       "      <td>2011-07-29</td>\n",
       "      <td>[]</td>\n",
       "      <td>[]</td>\n",
       "      <td>0.010909</td>\n",
       "      <td>en</td>\n",
       "      <td>[{\"id\": 1729, \"name\": \"migration\"}, {\"id\": 190...</td>\n",
       "      <td>[{\"id\": 99, \"name\": \"Documentary\"}]</td>\n",
       "      <td>NaN</td>\n",
       "      <td>[]</td>\n",
       "      <td>[{\"credit_id\": \"52fe4816c3a368484e0e8bbd\", \"de...</td>\n",
       "    </tr>\n",
       "    <tr>\n",
       "      <th>84659</th>\n",
       "      <td>1</td>\n",
       "      <td>5.0</td>\n",
       "      <td>Rumored</td>\n",
       "      <td>[]</td>\n",
       "      <td>110.0</td>\n",
       "      <td>0.0</td>\n",
       "      <td>2006-09-16</td>\n",
       "      <td>[]</td>\n",
       "      <td>[]</td>\n",
       "      <td>0.077577</td>\n",
       "      <td>en</td>\n",
       "      <td>[]</td>\n",
       "      <td>[{\"id\": 18, \"name\": \"Drama\"}, {\"id\": 35, \"name...</td>\n",
       "      <td>0.0</td>\n",
       "      <td>[{\"cast_id\": 1, \"character\": \"Alex\", \"credit_i...</td>\n",
       "      <td>[{\"credit_id\": \"52fe49049251416c910a00b3\", \"de...</td>\n",
       "    </tr>\n",
       "  </tbody>\n",
       "</table>\n",
       "</div>"
      ],
      "text/plain": [
       "       vote_count  vote_average   status  \\\n",
       "id                                         \n",
       "40963           1          10.0  Rumored   \n",
       "43630           2           4.8  Rumored   \n",
       "57294           1           7.0  Rumored   \n",
       "70875           0           0.0  Rumored   \n",
       "84659           1           5.0  Rumored   \n",
       "\n",
       "                               spoken_languages  duration  revenue  \\\n",
       "id                                                                   \n",
       "40963  [{\"iso_639_1\": \"en\", \"name\": \"English\"}]       0.0      0.0   \n",
       "43630  [{\"iso_639_1\": \"en\", \"name\": \"English\"}]      97.0      0.0   \n",
       "57294  [{\"iso_639_1\": \"en\", \"name\": \"English\"}]      93.0      0.0   \n",
       "70875                                        []      80.0      0.0   \n",
       "84659                                        []     110.0      0.0   \n",
       "\n",
       "          release                            countries_of_production  \\\n",
       "id                                                                     \n",
       "40963  2006-01-01  [{\"iso_3166_1\": \"US\", \"name\": \"United States o...   \n",
       "43630  2005-01-01  [{\"iso_3166_1\": \"US\", \"name\": \"United States o...   \n",
       "57294  2009-06-01   [{\"iso_3166_1\": \"GB\", \"name\": \"United Kingdom\"}]   \n",
       "70875  2011-07-29                                                 []   \n",
       "84659  2006-09-16                                                 []   \n",
       "\n",
       "                                              production  popularity  \\\n",
       "id                                                                     \n",
       "40963          [{\"name\": \"Fly High Films\", \"id\": 24248}]    0.092100   \n",
       "43630                                                 []    0.020600   \n",
       "57294  [{\"name\": \"Scottish Screen\", \"id\": 698}, {\"nam...    0.108135   \n",
       "70875                                                 []    0.010909   \n",
       "84659                                                 []    0.077577   \n",
       "\n",
       "      original_language                                           keywords  \\\n",
       "id                                                                           \n",
       "40963                en        [{\"id\": 10183, \"name\": \"independent film\"}]   \n",
       "43630                en                                                 []   \n",
       "57294                en  [{\"id\": 1930, \"name\": \"kidnapping\"}, {\"id\": 97...   \n",
       "70875                en  [{\"id\": 1729, \"name\": \"migration\"}, {\"id\": 190...   \n",
       "84659                en                                                 []   \n",
       "\n",
       "                                                  genres  \\\n",
       "id                                                         \n",
       "40963                     [{\"id\": 35, \"name\": \"Comedy\"}]   \n",
       "43630  [{\"id\": 28, \"name\": \"Action\"}, {\"id\": 35, \"nam...   \n",
       "57294  [{\"id\": 35, \"name\": \"Comedy\"}, {\"id\": 18, \"nam...   \n",
       "70875                [{\"id\": 99, \"name\": \"Documentary\"}]   \n",
       "84659  [{\"id\": 18, \"name\": \"Drama\"}, {\"id\": 35, \"name...   \n",
       "\n",
       "       financial_investment  \\\n",
       "id                            \n",
       "40963                   0.0   \n",
       "43630                   0.0   \n",
       "57294                   0.0   \n",
       "70875                   NaN   \n",
       "84659                   0.0   \n",
       "\n",
       "                                                  actors  \\\n",
       "id                                                         \n",
       "40963  [{\"cast_id\": 0, \"character\": \"Seymour\", \"credi...   \n",
       "43630                                                 []   \n",
       "57294  [{\"cast_id\": 3, \"character\": \"Joey Frisk\", \"cr...   \n",
       "70875                                                 []   \n",
       "84659  [{\"cast_id\": 1, \"character\": \"Alex\", \"credit_i...   \n",
       "\n",
       "                                         production_crew  \n",
       "id                                                        \n",
       "40963                                                 []  \n",
       "43630                                                 []  \n",
       "57294  [{\"credit_id\": \"52fe492dc3a36847f818d031\", \"de...  \n",
       "70875  [{\"credit_id\": \"52fe4816c3a368484e0e8bbd\", \"de...  \n",
       "84659  [{\"credit_id\": \"52fe49049251416c910a00b3\", \"de...  "
      ]
     },
     "execution_count": 57,
     "metadata": {},
     "output_type": "execute_result"
    }
   ],
   "source": [
    "Rumored_only = data_combind.loc[data_combind['status'] == 'Rumored']\n",
    "data_combind.drop(columns=['status'], inplace=True)\n",
    "Rumored_only"
   ]
  },
  {
   "cell_type": "markdown",
   "metadata": {},
   "source": [
    "the keyword columns is not relevant either because we already have genres to handle the type of content in the film"
   ]
  },
  {
   "cell_type": "code",
   "execution_count": 58,
   "metadata": {},
   "outputs": [],
   "source": [
    "data_combind.drop(columns=['keywords'], inplace=True)"
   ]
  },
  {
   "cell_type": "markdown",
   "metadata": {},
   "source": [
    "That's it for the feature selection, now that we know what we will work with we will make some preprocessing to be able to work with those datas.\n",
    "Those are the selected features:"
   ]
  },
  {
   "cell_type": "code",
   "execution_count": 59,
   "metadata": {},
   "outputs": [
    {
     "name": "stdout",
     "output_type": "stream",
     "text": [
      "<class 'pandas.core.frame.DataFrame'>\n",
      "Index: 4803 entries, 5 to 459488\n",
      "Data columns (total 14 columns):\n",
      " #   Column                   Non-Null Count  Dtype  \n",
      "---  ------                   --------------  -----  \n",
      " 0   vote_count               4803 non-null   int64  \n",
      " 1   vote_average             4323 non-null   float64\n",
      " 2   spoken_languages         4803 non-null   object \n",
      " 3   duration                 4801 non-null   float64\n",
      " 4   revenue                  4755 non-null   float64\n",
      " 5   release                  4802 non-null   object \n",
      " 6   countries_of_production  4803 non-null   object \n",
      " 7   production               4803 non-null   object \n",
      " 8   popularity               4803 non-null   float64\n",
      " 9   original_language        4563 non-null   object \n",
      " 10  genres                   4803 non-null   object \n",
      " 11  financial_investment     4419 non-null   float64\n",
      " 12  actors                   4803 non-null   object \n",
      " 13  production_crew          4803 non-null   object \n",
      "dtypes: float64(5), int64(1), object(8)\n",
      "memory usage: 691.9+ KB\n"
     ]
    }
   ],
   "source": [
    "significant_features = ['vote_count', 'vote_average','spoken_languages', 'duration', 'revenue','release','countries_of_production', 'production',\n",
    "        'popularity','original_language', 'genres', 'financial_investment', 'actors','production_crew']\n",
    "data_combind.info()"
   ]
  },
  {
   "cell_type": "markdown",
   "metadata": {},
   "source": [
    "### 3) Visualize key statistics"
   ]
  },
  {
   "cell_type": "code",
   "execution_count": 60,
   "metadata": {},
   "outputs": [
    {
     "data": {
      "text/html": [
       "<div>\n",
       "<style scoped>\n",
       "    .dataframe tbody tr th:only-of-type {\n",
       "        vertical-align: middle;\n",
       "    }\n",
       "\n",
       "    .dataframe tbody tr th {\n",
       "        vertical-align: top;\n",
       "    }\n",
       "\n",
       "    .dataframe thead th {\n",
       "        text-align: right;\n",
       "    }\n",
       "</style>\n",
       "<table border=\"1\" class=\"dataframe\">\n",
       "  <thead>\n",
       "    <tr style=\"text-align: right;\">\n",
       "      <th></th>\n",
       "      <th>vote_count</th>\n",
       "      <th>vote_average</th>\n",
       "      <th>duration</th>\n",
       "      <th>revenue</th>\n",
       "      <th>popularity</th>\n",
       "      <th>financial_investment</th>\n",
       "    </tr>\n",
       "  </thead>\n",
       "  <tbody>\n",
       "    <tr>\n",
       "      <th>count</th>\n",
       "      <td>4803.000000</td>\n",
       "      <td>4323.000000</td>\n",
       "      <td>4801.000000</td>\n",
       "      <td>4.755000e+03</td>\n",
       "      <td>4803.000000</td>\n",
       "      <td>4.419000e+03</td>\n",
       "    </tr>\n",
       "    <tr>\n",
       "      <th>mean</th>\n",
       "      <td>690.217989</td>\n",
       "      <td>6.090354</td>\n",
       "      <td>106.875859</td>\n",
       "      <td>8.231486e+07</td>\n",
       "      <td>21.492301</td>\n",
       "      <td>2.898466e+07</td>\n",
       "    </tr>\n",
       "    <tr>\n",
       "      <th>std</th>\n",
       "      <td>1234.585891</td>\n",
       "      <td>1.193315</td>\n",
       "      <td>22.611935</td>\n",
       "      <td>1.630872e+08</td>\n",
       "      <td>31.816650</td>\n",
       "      <td>4.065526e+07</td>\n",
       "    </tr>\n",
       "    <tr>\n",
       "      <th>min</th>\n",
       "      <td>0.000000</td>\n",
       "      <td>0.000000</td>\n",
       "      <td>0.000000</td>\n",
       "      <td>0.000000e+00</td>\n",
       "      <td>0.000000</td>\n",
       "      <td>0.000000e+00</td>\n",
       "    </tr>\n",
       "    <tr>\n",
       "      <th>25%</th>\n",
       "      <td>54.000000</td>\n",
       "      <td>5.600000</td>\n",
       "      <td>94.000000</td>\n",
       "      <td>0.000000e+00</td>\n",
       "      <td>4.668070</td>\n",
       "      <td>7.500000e+05</td>\n",
       "    </tr>\n",
       "    <tr>\n",
       "      <th>50%</th>\n",
       "      <td>235.000000</td>\n",
       "      <td>6.200000</td>\n",
       "      <td>103.000000</td>\n",
       "      <td>1.918402e+07</td>\n",
       "      <td>12.921594</td>\n",
       "      <td>1.480000e+07</td>\n",
       "    </tr>\n",
       "    <tr>\n",
       "      <th>75%</th>\n",
       "      <td>737.000000</td>\n",
       "      <td>6.800000</td>\n",
       "      <td>118.000000</td>\n",
       "      <td>9.311911e+07</td>\n",
       "      <td>28.313505</td>\n",
       "      <td>4.000000e+07</td>\n",
       "    </tr>\n",
       "    <tr>\n",
       "      <th>max</th>\n",
       "      <td>13752.000000</td>\n",
       "      <td>10.000000</td>\n",
       "      <td>338.000000</td>\n",
       "      <td>2.787965e+09</td>\n",
       "      <td>875.581305</td>\n",
       "      <td>3.800000e+08</td>\n",
       "    </tr>\n",
       "  </tbody>\n",
       "</table>\n",
       "</div>"
      ],
      "text/plain": [
       "         vote_count  vote_average     duration       revenue   popularity  \\\n",
       "count   4803.000000   4323.000000  4801.000000  4.755000e+03  4803.000000   \n",
       "mean     690.217989      6.090354   106.875859  8.231486e+07    21.492301   \n",
       "std     1234.585891      1.193315    22.611935  1.630872e+08    31.816650   \n",
       "min        0.000000      0.000000     0.000000  0.000000e+00     0.000000   \n",
       "25%       54.000000      5.600000    94.000000  0.000000e+00     4.668070   \n",
       "50%      235.000000      6.200000   103.000000  1.918402e+07    12.921594   \n",
       "75%      737.000000      6.800000   118.000000  9.311911e+07    28.313505   \n",
       "max    13752.000000     10.000000   338.000000  2.787965e+09   875.581305   \n",
       "\n",
       "       financial_investment  \n",
       "count          4.419000e+03  \n",
       "mean           2.898466e+07  \n",
       "std            4.065526e+07  \n",
       "min            0.000000e+00  \n",
       "25%            7.500000e+05  \n",
       "50%            1.480000e+07  \n",
       "75%            4.000000e+07  \n",
       "max            3.800000e+08  "
      ]
     },
     "execution_count": 60,
     "metadata": {},
     "output_type": "execute_result"
    }
   ],
   "source": [
    "data_combind.describe()"
   ]
  },
  {
   "cell_type": "markdown",
   "metadata": {},
   "source": [
    "We can see for the vote count, the popularity and the financial investend that the mean is really low compare to the respective max value. that let us see that in this dataset they are more lower value for those data than higher value."
   ]
  },
  {
   "cell_type": "markdown",
   "metadata": {},
   "source": [
    "### 4) Perform Exploratory Data Analysis (EDA)"
   ]
  },
  {
   "cell_type": "code",
   "execution_count": 61,
   "metadata": {},
   "outputs": [],
   "source": [
    "# sns.pairplot(dataset_data)  # Visualize pairwise relationships using a pairplot\n",
    "# plt.show()"
   ]
  },
  {
   "cell_type": "markdown",
   "metadata": {},
   "source": [
    "We can see that that the revenue will be affected by:\n",
    "- the financial investment\n",
    "- the vote count\n",
    "\n",
    "For the other features (vote average, duration, popularity), it is not really visible the impact they have an the revenue\n",
    "\n",
    "We can see that the vote average is affected by:\n",
    "- the vote count\n",
    "- the financial investment\n",
    "\n",
    "We can see a big problem, that is the feature that are not number cannot be used to make an EDA with the way I make it."
   ]
  },
  {
   "cell_type": "markdown",
   "metadata": {},
   "source": [
    "### 5) Trends in the data"
   ]
  },
  {
   "cell_type": "markdown",
   "metadata": {},
   "source": [
    "A) feature : financial_investment"
   ]
  },
  {
   "cell_type": "code",
   "execution_count": 62,
   "metadata": {},
   "outputs": [
    {
     "data": {
      "image/png": "[encoded data removed]",
      "text/plain": [
       "<Figure size 1000x600 with 1 Axes>"
      ]
     },
     "metadata": {},
     "output_type": "display_data"
    }
   ],
   "source": [
    "plt.figure(figsize=(10, 6))\n",
    "sns.histplot(data_combind['financial_investment'], bins=14, kde=True)\n",
    "plt.title('Histogram of Financial Investment')\n",
    "plt.xlabel('Financial Investment')\n",
    "plt.show()"
   ]
  },
  {
   "cell_type": "markdown",
   "metadata": {},
   "source": [
    "We can see that most of the data have an financial investment which are extremly small for a film. So we can question ourself if the remaining datas will be enought. Because if we only take the small financial investment then we only test for them and nothing else..."
   ]
  },
  {
   "cell_type": "markdown",
   "metadata": {},
   "source": [
    "B) vote count"
   ]
  },
  {
   "cell_type": "code",
   "execution_count": 63,
   "metadata": {},
   "outputs": [
    {
     "data": {
      "image/png": "[encoded data removed]",
      "text/plain": [
       "<Figure size 640x480 with 1 Axes>"
      ]
     },
     "metadata": {},
     "output_type": "display_data"
    }
   ],
   "source": [
    "sns.histplot(data_combind['vote_count'], bins=18, kde=True)\n",
    "plt.title('Histogram of Vote Count')\n",
    "plt.xlabel('Vote Count')\n",
    "plt.ylabel('Frequency')\n",
    "plt.show()"
   ]
  },
  {
   "cell_type": "markdown",
   "metadata": {},
   "source": [
    "Like for the financial investment, they are a lot of data with low number of vote for the films"
   ]
  },
  {
   "cell_type": "markdown",
   "metadata": {},
   "source": [
    "C) Average vote"
   ]
  },
  {
   "cell_type": "code",
   "execution_count": 64,
   "metadata": {},
   "outputs": [
    {
     "data": {
      "image/png": "[encoded data removed]",
      "text/plain": [
       "<Figure size 640x480 with 1 Axes>"
      ]
     },
     "metadata": {},
     "output_type": "display_data"
    }
   ],
   "source": [
    "sns.histplot(data_combind['vote_average'], bins=18, kde=True)\n",
    "plt.title('Histogram of Average vote')\n",
    "plt.xlabel('Average vote')\n",
    "plt.ylabel('Frequency')\n",
    "plt.show()"
   ]
  },
  {
   "cell_type": "markdown",
   "metadata": {},
   "source": [
    "We can see that ??????????????????"
   ]
  },
  {
   "cell_type": "markdown",
   "metadata": {},
   "source": [
    "D) Popularity"
   ]
  },
  {
   "cell_type": "code",
   "execution_count": 65,
   "metadata": {},
   "outputs": [
    {
     "data": {
      "image/png": "[encoded data removed]",
      "text/plain": [
       "<Figure size 640x480 with 1 Axes>"
      ]
     },
     "metadata": {},
     "output_type": "display_data"
    }
   ],
   "source": [
    "sns.histplot(data_combind['popularity'], bins=24, kde=True)\n",
    "plt.title('Histogram of Popularity')\n",
    "plt.xlabel('Popularity')\n",
    "plt.ylabel('Frequency')\n",
    "plt.show()"
   ]
  },
  {
   "cell_type": "markdown",
   "metadata": {},
   "source": [
    "E) Duration"
   ]
  },
  {
   "cell_type": "code",
   "execution_count": 66,
   "metadata": {},
   "outputs": [
    {
     "data": {
      "image/png": "[encoded data removed]",
      "text/plain": [
       "<Figure size 640x480 with 1 Axes>"
      ]
     },
     "metadata": {},
     "output_type": "display_data"
    }
   ],
   "source": [
    "sns.histplot(data_combind['duration'], bins=24, kde=True)\n",
    "plt.title('Histogram of Duration')\n",
    "plt.xlabel('Duration')\n",
    "plt.ylabel('Frequency')\n",
    "plt.show()"
   ]
  },
  {
   "cell_type": "markdown",
   "metadata": {},
   "source": [
    "F) Status"
   ]
  },
  {
   "cell_type": "code",
   "execution_count": 70,
   "metadata": {},
   "outputs": [],
   "source": [
    "# sns.countplot(data=data_combind, x='status', order=data_combind['status'].value_counts().index)\n",
    "# plt.title('Histogram of Status')\n",
    "# plt.xlabel('Status')\n",
    "# plt.ylabel('Frequency')\n",
    "# plt.show()"
   ]
  },
  {
   "cell_type": "markdown",
   "metadata": {},
   "source": [
    "We can see that praticly all the data for the status are in the released category"
   ]
  },
  {
   "cell_type": "code",
   "execution_count": 72,
   "metadata": {},
   "outputs": [],
   "source": [
    "#test to see if my assumption was true\n",
    "# data_combind.loc[data_combind.status != 'Released']"
   ]
  },
  {
   "cell_type": "markdown",
   "metadata": {},
   "source": [
    "We can see that in the data set we only have 3 Post Production and 5 Rumored status which is clearly not enought to use them for prediction of their respective status"
   ]
  },
  {
   "cell_type": "markdown",
   "metadata": {},
   "source": [
    "### 6) Patterns or correlations between features and the target"
   ]
  },
  {
   "cell_type": "markdown",
   "metadata": {},
   "source": [
    "A) feature : financial_investment"
   ]
  },
  {
   "cell_type": "code",
   "execution_count": 73,
   "metadata": {},
   "outputs": [
    {
     "data": {
      "image/png": "[encoded data removed]",
      "text/plain": [
       "<Figure size 640x480 with 1 Axes>"
      ]
     },
     "metadata": {},
     "output_type": "display_data"
    }
   ],
   "source": [
    "feature = 'financial_investment'\n",
    "target = 'revenue'\n",
    "sns.lineplot(x=feature, y=target, data =data_combind)  # Line plot\n",
    "plt.title('Analysis: Financial Investment vs Revenue')\n",
    "plt.xlabel('Financial Investment')\n",
    "plt.ylabel('Revenue')\n",
    "plt.show()"
   ]
  },
  {
   "cell_type": "markdown",
   "metadata": {},
   "source": [
    "We can see that in general the higher is the financial investment and higher the revenue will be. Which is something logical because if you have more budget you can emploie more famous actor, make more special effect, have better movie set and multiple orther thing that will improve the quality of your film that should made the people love it more."
   ]
  },
  {
   "cell_type": "markdown",
   "metadata": {},
   "source": [
    "B) vote count"
   ]
  },
  {
   "cell_type": "code",
   "execution_count": 74,
   "metadata": {},
   "outputs": [
    {
     "data": {
      "image/png": "[encoded data removed]",
      "text/plain": [
       "<Figure size 640x480 with 1 Axes>"
      ]
     },
     "metadata": {},
     "output_type": "display_data"
    }
   ],
   "source": [
    "sns.lineplot(x='vote_count', y='revenue', data=data_combind)\n",
    "plt.title('Analysis: Vote Count vs Revenue')\n",
    "plt.xlabel('Vote Count')\n",
    "plt.ylabel('Revenue')\n",
    "plt.show()"
   ]
  },
  {
   "cell_type": "markdown",
   "metadata": {},
   "source": [
    "We can see that with the vote count increasing it tends in means to increase the revenue. This tendency is logical because if there is a large number of vote it indicate that there is more exposure among the audience and it means that more people have seen it so it will increase the revenue."
   ]
  },
  {
   "cell_type": "markdown",
   "metadata": {},
   "source": [
    "C) Average vote"
   ]
  },
  {
   "cell_type": "code",
   "execution_count": 75,
   "metadata": {},
   "outputs": [
    {
     "data": {
      "image/png": "[encoded data removed]",
      "text/plain": [
       "<Figure size 640x480 with 1 Axes>"
      ]
     },
     "metadata": {},
     "output_type": "display_data"
    }
   ],
   "source": [
    "sns.lineplot(x='vote_average', y='revenue', data=data_combind)\n",
    "plt.title('Analysis: Average Vote vs Revenue')\n",
    "plt.xlabel('Average Vote')\n",
    "plt.ylabel('Revenue')\n",
    "plt.show()"
   ]
  },
  {
   "cell_type": "markdown",
   "metadata": {},
   "source": [
    "We can see that te revenue really augment from the score of 4 to the score of 8 before decreasing drasticly until the full score of 10. This can be explain as the higher the score and the higher it will be appealing to the audiences and so create more revenue for the film. We can also see a drastic decrease of the revenue after 8.5 despite the increas of the score that can be due to a low number of vote so that score does not really represent the quality of the film."
   ]
  },
  {
   "cell_type": "code",
   "execution_count": 76,
   "metadata": {},
   "outputs": [
    {
     "data": {
      "text/html": [
       "<div>\n",
       "<style scoped>\n",
       "    .dataframe tbody tr th:only-of-type {\n",
       "        vertical-align: middle;\n",
       "    }\n",
       "\n",
       "    .dataframe tbody tr th {\n",
       "        vertical-align: top;\n",
       "    }\n",
       "\n",
       "    .dataframe thead th {\n",
       "        text-align: right;\n",
       "    }\n",
       "</style>\n",
       "<table border=\"1\" class=\"dataframe\">\n",
       "  <thead>\n",
       "    <tr style=\"text-align: right;\">\n",
       "      <th></th>\n",
       "      <th>vote_count</th>\n",
       "      <th>vote_average</th>\n",
       "      <th>spoken_languages</th>\n",
       "      <th>duration</th>\n",
       "      <th>revenue</th>\n",
       "      <th>release</th>\n",
       "      <th>countries_of_production</th>\n",
       "      <th>production</th>\n",
       "      <th>popularity</th>\n",
       "      <th>original_language</th>\n",
       "      <th>genres</th>\n",
       "      <th>financial_investment</th>\n",
       "      <th>actors</th>\n",
       "      <th>production_crew</th>\n",
       "    </tr>\n",
       "    <tr>\n",
       "      <th>id</th>\n",
       "      <th></th>\n",
       "      <th></th>\n",
       "      <th></th>\n",
       "      <th></th>\n",
       "      <th></th>\n",
       "      <th></th>\n",
       "      <th></th>\n",
       "      <th></th>\n",
       "      <th></th>\n",
       "      <th></th>\n",
       "      <th></th>\n",
       "      <th></th>\n",
       "      <th></th>\n",
       "      <th></th>\n",
       "    </tr>\n",
       "  </thead>\n",
       "  <tbody>\n",
       "    <tr>\n",
       "      <th>40963</th>\n",
       "      <td>1</td>\n",
       "      <td>10.0</td>\n",
       "      <td>[{\"iso_639_1\": \"en\", \"name\": \"English\"}]</td>\n",
       "      <td>0.0</td>\n",
       "      <td>0.0</td>\n",
       "      <td>2006-01-01</td>\n",
       "      <td>[{\"iso_3166_1\": \"US\", \"name\": \"United States o...</td>\n",
       "      <td>[{\"name\": \"Fly High Films\", \"id\": 24248}]</td>\n",
       "      <td>0.092100</td>\n",
       "      <td>en</td>\n",
       "      <td>[{\"id\": 35, \"name\": \"Comedy\"}]</td>\n",
       "      <td>0.0</td>\n",
       "      <td>[{\"cast_id\": 0, \"character\": \"Seymour\", \"credi...</td>\n",
       "      <td>[]</td>\n",
       "    </tr>\n",
       "    <tr>\n",
       "      <th>69848</th>\n",
       "      <td>2</td>\n",
       "      <td>9.3</td>\n",
       "      <td>[{\"iso_639_1\": \"en\", \"name\": \"English\"}]</td>\n",
       "      <td>121.0</td>\n",
       "      <td>0.0</td>\n",
       "      <td>1999-08-02</td>\n",
       "      <td>[{\"iso_3166_1\": \"US\", \"name\": \"United States o...</td>\n",
       "      <td>[{\"name\": \"Filmax\", \"id\": 3631}, {\"name\": \"Sil...</td>\n",
       "      <td>0.910529</td>\n",
       "      <td>en</td>\n",
       "      <td>[{\"id\": 37, \"name\": \"Western\"}, {\"id\": 28, \"na...</td>\n",
       "      <td>0.0</td>\n",
       "      <td>[{\"cast_id\": 0, \"character\": \"Captain John Ril...</td>\n",
       "      <td>[{\"credit_id\": \"558603f4c3a36837e90007f2\", \"de...</td>\n",
       "    </tr>\n",
       "    <tr>\n",
       "      <th>78373</th>\n",
       "      <td>1</td>\n",
       "      <td>10.0</td>\n",
       "      <td>[{\"iso_639_1\": \"en\", \"name\": \"English\"}]</td>\n",
       "      <td>97.0</td>\n",
       "      <td>565592.0</td>\n",
       "      <td>1998-05-01</td>\n",
       "      <td>[{\"iso_3166_1\": \"US\", \"name\": \"United States o...</td>\n",
       "      <td>[{\"name\": \"HSX Films\", \"id\": 4714}, {\"name\": \"...</td>\n",
       "      <td>0.376662</td>\n",
       "      <td>en</td>\n",
       "      <td>[{\"id\": 35, \"name\": \"Comedy\"}, {\"id\": 18, \"nam...</td>\n",
       "      <td>0.0</td>\n",
       "      <td>[{\"cast_id\": 1, \"character\": \"Keller Coleman\",...</td>\n",
       "      <td>[{\"credit_id\": \"52fe499bc3a368484e13445b\", \"de...</td>\n",
       "    </tr>\n",
       "    <tr>\n",
       "      <th>89861</th>\n",
       "      <td>1</td>\n",
       "      <td>10.0</td>\n",
       "      <td>[{\"iso_639_1\": \"en\", \"name\": \"English\"}]</td>\n",
       "      <td>99.0</td>\n",
       "      <td>0.0</td>\n",
       "      <td>1998-06-12</td>\n",
       "      <td>[{\"iso_3166_1\": \"GB\", \"name\": \"United Kingdom\"...</td>\n",
       "      <td>[]</td>\n",
       "      <td>0.356495</td>\n",
       "      <td>en</td>\n",
       "      <td>[{\"id\": 35, \"name\": \"Comedy\"}]</td>\n",
       "      <td>0.0</td>\n",
       "      <td>[{\"cast_id\": 11, \"character\": \"Emily\", \"credit...</td>\n",
       "      <td>[{\"credit_id\": \"52fe4a2f9251416c910c5edb\", \"de...</td>\n",
       "    </tr>\n",
       "    <tr>\n",
       "      <th>346081</th>\n",
       "      <td>2</td>\n",
       "      <td>9.5</td>\n",
       "      <td>[]</td>\n",
       "      <td>0.0</td>\n",
       "      <td>0.0</td>\n",
       "      <td>2015-06-26</td>\n",
       "      <td>[{\"iso_3166_1\": \"IN\", \"name\": \"India\"}]</td>\n",
       "      <td>[]</td>\n",
       "      <td>0.296981</td>\n",
       "      <td>en</td>\n",
       "      <td>[]</td>\n",
       "      <td>0.0</td>\n",
       "      <td>[]</td>\n",
       "      <td>[{\"credit_id\": \"558ab3f4925141076f0001d7\", \"de...</td>\n",
       "    </tr>\n",
       "    <tr>\n",
       "      <th>361505</th>\n",
       "      <td>2</td>\n",
       "      <td>10.0</td>\n",
       "      <td>[]</td>\n",
       "      <td>90.0</td>\n",
       "      <td>0.0</td>\n",
       "      <td>2015-07-07</td>\n",
       "      <td>[]</td>\n",
       "      <td>[]</td>\n",
       "      <td>0.094105</td>\n",
       "      <td>NaN</td>\n",
       "      <td>[{\"id\": 10749, \"name\": \"Romance\"}, {\"id\": 35, ...</td>\n",
       "      <td>1.0</td>\n",
       "      <td>[]</td>\n",
       "      <td>[]</td>\n",
       "    </tr>\n",
       "  </tbody>\n",
       "</table>\n",
       "</div>"
      ],
      "text/plain": [
       "        vote_count  vote_average                          spoken_languages  \\\n",
       "id                                                                           \n",
       "40963            1          10.0  [{\"iso_639_1\": \"en\", \"name\": \"English\"}]   \n",
       "69848            2           9.3  [{\"iso_639_1\": \"en\", \"name\": \"English\"}]   \n",
       "78373            1          10.0  [{\"iso_639_1\": \"en\", \"name\": \"English\"}]   \n",
       "89861            1          10.0  [{\"iso_639_1\": \"en\", \"name\": \"English\"}]   \n",
       "346081           2           9.5                                        []   \n",
       "361505           2          10.0                                        []   \n",
       "\n",
       "        duration   revenue     release  \\\n",
       "id                                       \n",
       "40963        0.0       0.0  2006-01-01   \n",
       "69848      121.0       0.0  1999-08-02   \n",
       "78373       97.0  565592.0  1998-05-01   \n",
       "89861       99.0       0.0  1998-06-12   \n",
       "346081       0.0       0.0  2015-06-26   \n",
       "361505      90.0       0.0  2015-07-07   \n",
       "\n",
       "                                  countries_of_production  \\\n",
       "id                                                          \n",
       "40963   [{\"iso_3166_1\": \"US\", \"name\": \"United States o...   \n",
       "69848   [{\"iso_3166_1\": \"US\", \"name\": \"United States o...   \n",
       "78373   [{\"iso_3166_1\": \"US\", \"name\": \"United States o...   \n",
       "89861   [{\"iso_3166_1\": \"GB\", \"name\": \"United Kingdom\"...   \n",
       "346081            [{\"iso_3166_1\": \"IN\", \"name\": \"India\"}]   \n",
       "361505                                                 []   \n",
       "\n",
       "                                               production  popularity  \\\n",
       "id                                                                      \n",
       "40963           [{\"name\": \"Fly High Films\", \"id\": 24248}]    0.092100   \n",
       "69848   [{\"name\": \"Filmax\", \"id\": 3631}, {\"name\": \"Sil...    0.910529   \n",
       "78373   [{\"name\": \"HSX Films\", \"id\": 4714}, {\"name\": \"...    0.376662   \n",
       "89861                                                  []    0.356495   \n",
       "346081                                                 []    0.296981   \n",
       "361505                                                 []    0.094105   \n",
       "\n",
       "       original_language                                             genres  \\\n",
       "id                                                                            \n",
       "40963                 en                     [{\"id\": 35, \"name\": \"Comedy\"}]   \n",
       "69848                 en  [{\"id\": 37, \"name\": \"Western\"}, {\"id\": 28, \"na...   \n",
       "78373                 en  [{\"id\": 35, \"name\": \"Comedy\"}, {\"id\": 18, \"nam...   \n",
       "89861                 en                     [{\"id\": 35, \"name\": \"Comedy\"}]   \n",
       "346081                en                                                 []   \n",
       "361505               NaN  [{\"id\": 10749, \"name\": \"Romance\"}, {\"id\": 35, ...   \n",
       "\n",
       "        financial_investment  \\\n",
       "id                             \n",
       "40963                    0.0   \n",
       "69848                    0.0   \n",
       "78373                    0.0   \n",
       "89861                    0.0   \n",
       "346081                   0.0   \n",
       "361505                   1.0   \n",
       "\n",
       "                                                   actors  \\\n",
       "id                                                          \n",
       "40963   [{\"cast_id\": 0, \"character\": \"Seymour\", \"credi...   \n",
       "69848   [{\"cast_id\": 0, \"character\": \"Captain John Ril...   \n",
       "78373   [{\"cast_id\": 1, \"character\": \"Keller Coleman\",...   \n",
       "89861   [{\"cast_id\": 11, \"character\": \"Emily\", \"credit...   \n",
       "346081                                                 []   \n",
       "361505                                                 []   \n",
       "\n",
       "                                          production_crew  \n",
       "id                                                         \n",
       "40963                                                  []  \n",
       "69848   [{\"credit_id\": \"558603f4c3a36837e90007f2\", \"de...  \n",
       "78373   [{\"credit_id\": \"52fe499bc3a368484e13445b\", \"de...  \n",
       "89861   [{\"credit_id\": \"52fe4a2f9251416c910c5edb\", \"de...  \n",
       "346081  [{\"credit_id\": \"558ab3f4925141076f0001d7\", \"de...  \n",
       "361505                                                 []  "
      ]
     },
     "execution_count": 76,
     "metadata": {},
     "output_type": "execute_result"
    }
   ],
   "source": [
    "#test to see if my assumption was true\n",
    "data_combind.loc[data_combind.vote_average > 8.7]"
   ]
  },
  {
   "cell_type": "markdown",
   "metadata": {},
   "source": [
    "We can see that my assumption was true there is only 1 or 2 vote for the high level score which meams that it is easier to make a score that does not reflect the quality of the film."
   ]
  },
  {
   "cell_type": "markdown",
   "metadata": {},
   "source": [
    "D) Popularity"
   ]
  },
  {
   "cell_type": "code",
   "execution_count": 77,
   "metadata": {},
   "outputs": [
    {
     "data": {
      "image/png": "[encoded data removed]",
      "text/plain": [
       "<Figure size 640x480 with 1 Axes>"
      ]
     },
     "metadata": {},
     "output_type": "display_data"
    }
   ],
   "source": [
    "sns.lineplot(x='popularity', y='revenue', data=data_combind)\n",
    "plt.title('Analysis: popularity vs Revenue')\n",
    "plt.xlabel('popularity')\n",
    "plt.ylabel('Revenue')\n",
    "plt.show()"
   ]
  },
  {
   "cell_type": "markdown",
   "metadata": {},
   "source": [
    "E) Duration"
   ]
  },
  {
   "cell_type": "code",
   "execution_count": 78,
   "metadata": {},
   "outputs": [
    {
     "data": {
      "image/png": "[encoded data removed]",
      "text/plain": [
       "<Figure size 640x480 with 1 Axes>"
      ]
     },
     "metadata": {},
     "output_type": "display_data"
    }
   ],
   "source": [
    "\n",
    "sns.lineplot(x='duration', y='revenue', data=data_combind)\n",
    "plt.title('Analysis: duration vs Revenue')\n",
    "plt.xlabel('duration')\n",
    "plt.ylabel('Revenue')\n",
    "plt.show()"
   ]
  },
  {
   "cell_type": "markdown",
   "metadata": {},
   "source": [
    "F) Status"
   ]
  },
  {
   "cell_type": "code",
   "execution_count": 80,
   "metadata": {},
   "outputs": [],
   "source": [
    "# sns.barplot(data=data_combind ,x='status', y='revenue')\n",
    "# plt.title('Bar Chart of revenue by status')\n",
    "# plt.xlabel('status')\n",
    "# plt.ylabel('revenue')\n",
    "# plt.show()"
   ]
  },
  {
   "cell_type": "code",
   "execution_count": 81,
   "metadata": {},
   "outputs": [
    {
     "data": {
      "image/png": "[encoded data removed]",
      "text/plain": [
       "<Figure size 1000x600 with 1 Axes>"
      ]
     },
     "metadata": {},
     "output_type": "display_data"
    }
   ],
   "source": [
    "plt.figure(figsize=(10, 6))\n",
    "sns.barplot(data=data_combind ,x='original_language', y='revenue')\n",
    "plt.title('Bar Chart of revenue by original_language')\n",
    "plt.xlabel('original_language')\n",
    "plt.ylabel('revenue')\n",
    "plt.show()"
   ]
  },
  {
   "cell_type": "markdown",
   "metadata": {},
   "source": [
    "## B) Feature Selection and Creation"
   ]
  },
  {
   "cell_type": "code",
   "execution_count": 82,
   "metadata": {},
   "outputs": [],
   "source": [
    "significant_featuresInt = ['vote_count', 'vote_average', 'duration', 'financial_investment', 'popularity']\n",
    "#'original_language',\n",
    "# We think that status is also an important feature but the number of the different status are not enought except for released.\n",
    "target = 'revenue'\n",
    "\n",
    "# we will remove all the ligne that contained a NaN target to avoid problem during the model learning step.\n",
    "data_combind.dropna(subset=[target], inplace=True)\n"
   ]
  },
  {
   "cell_type": "code",
   "execution_count": 83,
   "metadata": {},
   "outputs": [
    {
     "name": "stdout",
     "output_type": "stream",
     "text": [
      "<class 'pandas.core.frame.DataFrame'>\n",
      "Index: 4755 entries, 5 to 459488\n",
      "Data columns (total 14 columns):\n",
      " #   Column                   Non-Null Count  Dtype  \n",
      "---  ------                   --------------  -----  \n",
      " 0   vote_count               4755 non-null   int64  \n",
      " 1   vote_average             4276 non-null   float64\n",
      " 2   spoken_languages         4755 non-null   object \n",
      " 3   duration                 4753 non-null   float64\n",
      " 4   revenue                  4755 non-null   float64\n",
      " 5   release                  4754 non-null   object \n",
      " 6   countries_of_production  4755 non-null   object \n",
      " 7   production               4755 non-null   object \n",
      " 8   popularity               4755 non-null   float64\n",
      " 9   original_language        4519 non-null   object \n",
      " 10  genres                   4755 non-null   object \n",
      " 11  financial_investment     4375 non-null   float64\n",
      " 12  actors                   4755 non-null   object \n",
      " 13  production_crew          4755 non-null   object \n",
      "dtypes: float64(5), int64(1), object(8)\n",
      "memory usage: 557.2+ KB\n"
     ]
    }
   ],
   "source": [
    "data_combind.info()"
   ]
  },
  {
   "cell_type": "markdown",
   "metadata": {},
   "source": [
    "We can see that now we have only the lignes that have a valid revenue target.\n",
    "\n",
    "We need to transform the original_language with Ordinal Encoding."
   ]
  },
  {
   "cell_type": "markdown",
   "metadata": {},
   "source": [
    "### feature importance ranking"
   ]
  },
  {
   "cell_type": "code",
   "execution_count": 85,
   "metadata": {},
   "outputs": [
    {
     "name": "stdout",
     "output_type": "stream",
     "text": [
      "                Feature  Importance\n",
      "0            vote_count    0.627606\n",
      "3  financial_investment    0.203138\n",
      "4            popularity    0.065343\n",
      "2              duration    0.057884\n",
      "1          vote_average    0.046028\n"
     ]
    }
   ],
   "source": [
    "from sklearn.ensemble import RandomForestRegressor\n",
    "\n",
    "# Assuming X is your feature matrix and y is your target variable\n",
    "X = data_combind[significant_featuresInt]\n",
    "y = data_combind['revenue']\n",
    "\n",
    "# Initialize the random forest regressor\n",
    "rf = RandomForestRegressor()\n",
    "\n",
    "# Fit the model to your data\n",
    "rf.fit(X, y)\n",
    "\n",
    "# Extract feature importances\n",
    "feature_importances = rf.feature_importances_\n",
    "\n",
    "# Create a DataFrame to store feature importances\n",
    "feature_importance_df = pd.DataFrame({'Feature': X.columns, 'Importance': feature_importances})\n",
    "\n",
    "# Sort the DataFrame by importance in descending order\n",
    "feature_importance_df = feature_importance_df.sort_values(by='Importance', ascending=False)\n",
    "\n",
    "# Display the feature importance ranking\n",
    "print(feature_importance_df)"
   ]
  },
  {
   "cell_type": "markdown",
   "metadata": {},
   "source": [
    "## C) Data Pre-processing"
   ]
  },
  {
   "cell_type": "markdown",
   "metadata": {},
   "source": [
    "Now we need to complete the vote_average, vote_count, financial_investment, duration,popularity feature before using any models. "
   ]
  },
  {
   "cell_type": "markdown",
   "metadata": {},
   "source": [
    "That's it for the feature selection, now that we know what we will work with we will make some preprocessing to be able to work with those datas.\n",
    "Those are the selected features:"
   ]
  },
  {
   "cell_type": "code",
   "execution_count": 86,
   "metadata": {},
   "outputs": [
    {
     "name": "stdout",
     "output_type": "stream",
     "text": [
      "['vote_count', 'vote_average', 'spoken_languages', 'duration', 'revenue', 'release', 'countries_of_production', 'production', 'popularity', 'original_language', 'genres', 'financial_investment', 'actors', 'production_crew']\n"
     ]
    }
   ],
   "source": [
    "significant_features = ['vote_count', 'vote_average','spoken_languages', 'duration', 'revenue','release','countries_of_production', 'production',\n",
    "        'popularity','original_language', 'genres', 'financial_investment', 'actors','production_crew']\n",
    "print(significant_features)\n",
    "\n",
    "# we will remove all the ligne that contained a NaN target to avoid problem during the model learning step.\n",
    "data_combind.dropna(subset=[target], inplace=True)"
   ]
  },
  {
   "cell_type": "markdown",
   "metadata": {},
   "source": [
    "In these features there is \"numericals\" and \"object\" datatypes and we will handle them differently. All the object types are in fact \"strings\", so we will use the ordinal encoding approach for them because there are too much different categories for the onehot encoding one, it would also take too long to train the model. \n",
    "We will separate the features into two sets \"numerical columns\" with all the int and float datatypes and \"categorical columns\" as all of the strings datatypes."
   ]
  },
  {
   "cell_type": "code",
   "execution_count": 87,
   "metadata": {},
   "outputs": [
    {
     "name": "stdout",
     "output_type": "stream",
     "text": [
      "numerical columns:  ['vote_count', 'vote_average', 'duration', 'revenue', 'popularity', 'financial_investment']\n",
      "categorical columns:  ['spoken_languages', 'release', 'countries_of_production', 'production', 'original_language', 'genres', 'actors', 'production_crew']\n"
     ]
    }
   ],
   "source": [
    "num_cols = [cname for cname in data_combind.columns if \n",
    "                data_combind[cname].dtype in ['int64', 'float64']]\n",
    "cat_cols = [cname for cname in data_combind.columns if\n",
    "                    data_combind[cname].dtype == \"object\"]\n",
    "print(\"numerical columns: \",num_cols)\n",
    "print(\"categorical columns: \",cat_cols)"
   ]
  },
  {
   "cell_type": "markdown",
   "metadata": {},
   "source": [
    "#### Categorical data"
   ]
  },
  {
   "cell_type": "markdown",
   "metadata": {},
   "source": [
    "The columns can't be used directly we have to preprocess them before. We can see that for the majority of the columns the values are in a dictionnary that's itself in a list. And there are lots of different values to choose for example in the actors column, with the \"cast_id\",the character played in the film, the \"credit_id\", the gender ect... We don't need all of those information to know which actor plays in a film. \n",
    "With all of this, the treatment of those columns will be difficult so we will extract the information we want and display it correctly."
   ]
  },
  {
   "cell_type": "code",
   "execution_count": 88,
   "metadata": {},
   "outputs": [
    {
     "data": {
      "text/html": [
       "<div>\n",
       "<style scoped>\n",
       "    .dataframe tbody tr th:only-of-type {\n",
       "        vertical-align: middle;\n",
       "    }\n",
       "\n",
       "    .dataframe tbody tr th {\n",
       "        vertical-align: top;\n",
       "    }\n",
       "\n",
       "    .dataframe thead th {\n",
       "        text-align: right;\n",
       "    }\n",
       "</style>\n",
       "<table border=\"1\" class=\"dataframe\">\n",
       "  <thead>\n",
       "    <tr style=\"text-align: right;\">\n",
       "      <th></th>\n",
       "      <th>spoken_languages</th>\n",
       "      <th>release</th>\n",
       "      <th>countries_of_production</th>\n",
       "      <th>production</th>\n",
       "      <th>original_language</th>\n",
       "      <th>genres</th>\n",
       "      <th>actors</th>\n",
       "      <th>production_crew</th>\n",
       "    </tr>\n",
       "    <tr>\n",
       "      <th>id</th>\n",
       "      <th></th>\n",
       "      <th></th>\n",
       "      <th></th>\n",
       "      <th></th>\n",
       "      <th></th>\n",
       "      <th></th>\n",
       "      <th></th>\n",
       "      <th></th>\n",
       "    </tr>\n",
       "  </thead>\n",
       "  <tbody>\n",
       "    <tr>\n",
       "      <th>426067</th>\n",
       "      <td>[{\"iso_639_1\": \"en\", \"name\": \"English\"}]</td>\n",
       "      <td>1990-01-01</td>\n",
       "      <td>[]</td>\n",
       "      <td>[]</td>\n",
       "      <td>NaN</td>\n",
       "      <td>[{\"id\": 27, \"name\": \"Horror\"}]</td>\n",
       "      <td>[{\"cast_id\": 1, \"character\": \"Dawn\", \"credit_i...</td>\n",
       "      <td>[{\"credit_id\": \"582a4cdb9251417b1803dd47\", \"de...</td>\n",
       "    </tr>\n",
       "    <tr>\n",
       "      <th>426469</th>\n",
       "      <td>[{\"iso_639_1\": \"en\", \"name\": \"English\"}]</td>\n",
       "      <td>2017-02-03</td>\n",
       "      <td>[]</td>\n",
       "      <td>[]</td>\n",
       "      <td>en</td>\n",
       "      <td>[{\"id\": 35, \"name\": \"Comedy\"}, {\"id\": 10751, \"...</td>\n",
       "      <td>[{\"cast_id\": 4, \"character\": \"Smith Bhatnagar\"...</td>\n",
       "      <td>[{\"credit_id\": \"582e0bdfc3a368772600b6c1\", \"de...</td>\n",
       "    </tr>\n",
       "    <tr>\n",
       "      <th>433715</th>\n",
       "      <td>[{\"iso_639_1\": \"en\", \"name\": \"English\"}]</td>\n",
       "      <td>2014-06-15</td>\n",
       "      <td>[{\"iso_3166_1\": \"US\", \"name\": \"United States o...</td>\n",
       "      <td>[{\"name\": \"After Eden Pictures\", \"id\": 85248}]</td>\n",
       "      <td>en</td>\n",
       "      <td>[{\"id\": 53, \"name\": \"Thriller\"}, {\"id\": 18, \"n...</td>\n",
       "      <td>[{\"cast_id\": 3, \"character\": \"Amber\", \"credit_...</td>\n",
       "      <td>[{\"credit_id\": \"58713acfc3a3684f0a00a9ac\", \"de...</td>\n",
       "    </tr>\n",
       "    <tr>\n",
       "      <th>447027</th>\n",
       "      <td>[]</td>\n",
       "      <td>2015-10-27</td>\n",
       "      <td>[{\"iso_3166_1\": \"US\", \"name\": \"United States o...</td>\n",
       "      <td>[{\"name\": \"New Kingdom Pictures\", \"id\": 41671}]</td>\n",
       "      <td>en</td>\n",
       "      <td>[{\"id\": 10751, \"name\": \"Family\"}]</td>\n",
       "      <td>[]</td>\n",
       "      <td>[]</td>\n",
       "    </tr>\n",
       "    <tr>\n",
       "      <th>459488</th>\n",
       "      <td>[]</td>\n",
       "      <td>2015-12-12</td>\n",
       "      <td>[{\"iso_3166_1\": \"GB\", \"name\": \"United Kingdom\"}]</td>\n",
       "      <td>[{\"name\": \"Eyeline Entertainment\", \"id\": 60343}]</td>\n",
       "      <td>en</td>\n",
       "      <td>[{\"id\": 99, \"name\": \"Documentary\"}]</td>\n",
       "      <td>[{\"cast_id\": 0, \"character\": \"Narrator\", \"cred...</td>\n",
       "      <td>[{\"credit_id\": \"592b25e4c3a368783e065a2f\", \"de...</td>\n",
       "    </tr>\n",
       "  </tbody>\n",
       "</table>\n",
       "</div>"
      ],
      "text/plain": [
       "                                spoken_languages     release  \\\n",
       "id                                                             \n",
       "426067  [{\"iso_639_1\": \"en\", \"name\": \"English\"}]  1990-01-01   \n",
       "426469  [{\"iso_639_1\": \"en\", \"name\": \"English\"}]  2017-02-03   \n",
       "433715  [{\"iso_639_1\": \"en\", \"name\": \"English\"}]  2014-06-15   \n",
       "447027                                        []  2015-10-27   \n",
       "459488                                        []  2015-12-12   \n",
       "\n",
       "                                  countries_of_production  \\\n",
       "id                                                          \n",
       "426067                                                 []   \n",
       "426469                                                 []   \n",
       "433715  [{\"iso_3166_1\": \"US\", \"name\": \"United States o...   \n",
       "447027  [{\"iso_3166_1\": \"US\", \"name\": \"United States o...   \n",
       "459488   [{\"iso_3166_1\": \"GB\", \"name\": \"United Kingdom\"}]   \n",
       "\n",
       "                                              production original_language  \\\n",
       "id                                                                           \n",
       "426067                                                []               NaN   \n",
       "426469                                                []                en   \n",
       "433715    [{\"name\": \"After Eden Pictures\", \"id\": 85248}]                en   \n",
       "447027   [{\"name\": \"New Kingdom Pictures\", \"id\": 41671}]                en   \n",
       "459488  [{\"name\": \"Eyeline Entertainment\", \"id\": 60343}]                en   \n",
       "\n",
       "                                                   genres  \\\n",
       "id                                                          \n",
       "426067                     [{\"id\": 27, \"name\": \"Horror\"}]   \n",
       "426469  [{\"id\": 35, \"name\": \"Comedy\"}, {\"id\": 10751, \"...   \n",
       "433715  [{\"id\": 53, \"name\": \"Thriller\"}, {\"id\": 18, \"n...   \n",
       "447027                  [{\"id\": 10751, \"name\": \"Family\"}]   \n",
       "459488                [{\"id\": 99, \"name\": \"Documentary\"}]   \n",
       "\n",
       "                                                   actors  \\\n",
       "id                                                          \n",
       "426067  [{\"cast_id\": 1, \"character\": \"Dawn\", \"credit_i...   \n",
       "426469  [{\"cast_id\": 4, \"character\": \"Smith Bhatnagar\"...   \n",
       "433715  [{\"cast_id\": 3, \"character\": \"Amber\", \"credit_...   \n",
       "447027                                                 []   \n",
       "459488  [{\"cast_id\": 0, \"character\": \"Narrator\", \"cred...   \n",
       "\n",
       "                                          production_crew  \n",
       "id                                                         \n",
       "426067  [{\"credit_id\": \"582a4cdb9251417b1803dd47\", \"de...  \n",
       "426469  [{\"credit_id\": \"582e0bdfc3a368772600b6c1\", \"de...  \n",
       "433715  [{\"credit_id\": \"58713acfc3a3684f0a00a9ac\", \"de...  \n",
       "447027                                                 []  \n",
       "459488  [{\"credit_id\": \"592b25e4c3a368783e065a2f\", \"de...  "
      ]
     },
     "execution_count": 88,
     "metadata": {},
     "output_type": "execute_result"
    }
   ],
   "source": [
    "data_combind[cat_cols].tail()"
   ]
  },
  {
   "cell_type": "markdown",
   "metadata": {},
   "source": [
    "For the \"spoken language\" column there is the \"iso_639_1\" key and the \"name\" key, we will take the \"iso_639_1\" key because the other key gives the hole name of the language and with only 2 letters to compare we would gain some speed of treatment, two letters should be sufficient to know which language is spoken, this is the same for the \"countries of production\" column.\n",
    "\n",
    "The \"production\" and \"genres\" column have the same structure, an id and a name. For those two we will take the \"name\" key. We will do the same for the two last columns \"actors\" and \"production_crew\".\n",
    "\n",
    "We'll only take the first information for each column, for example we'll take the first actor in the list, the first production_crew, ect.\n",
    "Because there already are some ranking inside of the list so the first element is the most important of the list.\n",
    "\n",
    "Also there are some lists that are empty in almost all columns, we will replace them by a NaN value so it will be easier to handle them later."
   ]
  },
  {
   "cell_type": "code",
   "execution_count": 89,
   "metadata": {},
   "outputs": [
    {
     "data": {
      "text/html": [
       "<div>\n",
       "<style scoped>\n",
       "    .dataframe tbody tr th:only-of-type {\n",
       "        vertical-align: middle;\n",
       "    }\n",
       "\n",
       "    .dataframe tbody tr th {\n",
       "        vertical-align: top;\n",
       "    }\n",
       "\n",
       "    .dataframe thead th {\n",
       "        text-align: right;\n",
       "    }\n",
       "</style>\n",
       "<table border=\"1\" class=\"dataframe\">\n",
       "  <thead>\n",
       "    <tr style=\"text-align: right;\">\n",
       "      <th></th>\n",
       "      <th>spoken_languages</th>\n",
       "      <th>release</th>\n",
       "      <th>countries_of_production</th>\n",
       "      <th>production</th>\n",
       "      <th>original_language</th>\n",
       "      <th>genres</th>\n",
       "      <th>actors</th>\n",
       "      <th>production_crew</th>\n",
       "    </tr>\n",
       "    <tr>\n",
       "      <th>id</th>\n",
       "      <th></th>\n",
       "      <th></th>\n",
       "      <th></th>\n",
       "      <th></th>\n",
       "      <th></th>\n",
       "      <th></th>\n",
       "      <th></th>\n",
       "      <th></th>\n",
       "    </tr>\n",
       "  </thead>\n",
       "  <tbody>\n",
       "    <tr>\n",
       "      <th>426067</th>\n",
       "      <td>en</td>\n",
       "      <td>1990-01-01</td>\n",
       "      <td>NaN</td>\n",
       "      <td>NaN</td>\n",
       "      <td>NaN</td>\n",
       "      <td>Horror</td>\n",
       "      <td>Lisa Hart Carroll</td>\n",
       "      <td>Pece Dingo</td>\n",
       "    </tr>\n",
       "    <tr>\n",
       "      <th>426469</th>\n",
       "      <td>en</td>\n",
       "      <td>2017-02-03</td>\n",
       "      <td>NaN</td>\n",
       "      <td>NaN</td>\n",
       "      <td>en</td>\n",
       "      <td>Comedy</td>\n",
       "      <td>Roni Akurati</td>\n",
       "      <td>Frank Lotito</td>\n",
       "    </tr>\n",
       "    <tr>\n",
       "      <th>433715</th>\n",
       "      <td>en</td>\n",
       "      <td>2014-06-15</td>\n",
       "      <td>US</td>\n",
       "      <td>After Eden Pictures</td>\n",
       "      <td>en</td>\n",
       "      <td>Thriller</td>\n",
       "      <td>Nicole Smolen</td>\n",
       "      <td>Jaco Booyens</td>\n",
       "    </tr>\n",
       "    <tr>\n",
       "      <th>447027</th>\n",
       "      <td>NaN</td>\n",
       "      <td>2015-10-27</td>\n",
       "      <td>US</td>\n",
       "      <td>New Kingdom Pictures</td>\n",
       "      <td>en</td>\n",
       "      <td>Family</td>\n",
       "      <td>NaN</td>\n",
       "      <td>NaN</td>\n",
       "    </tr>\n",
       "    <tr>\n",
       "      <th>459488</th>\n",
       "      <td>NaN</td>\n",
       "      <td>2015-12-12</td>\n",
       "      <td>GB</td>\n",
       "      <td>Eyeline Entertainment</td>\n",
       "      <td>en</td>\n",
       "      <td>Documentary</td>\n",
       "      <td>Tony Oppedisano</td>\n",
       "      <td>Simon Napier-Bell</td>\n",
       "    </tr>\n",
       "  </tbody>\n",
       "</table>\n",
       "</div>"
      ],
      "text/plain": [
       "       spoken_languages     release countries_of_production  \\\n",
       "id                                                            \n",
       "426067               en  1990-01-01                     NaN   \n",
       "426469               en  2017-02-03                     NaN   \n",
       "433715               en  2014-06-15                      US   \n",
       "447027              NaN  2015-10-27                      US   \n",
       "459488              NaN  2015-12-12                      GB   \n",
       "\n",
       "                   production original_language       genres  \\\n",
       "id                                                             \n",
       "426067                    NaN               NaN       Horror   \n",
       "426469                    NaN                en       Comedy   \n",
       "433715    After Eden Pictures                en     Thriller   \n",
       "447027   New Kingdom Pictures                en       Family   \n",
       "459488  Eyeline Entertainment                en  Documentary   \n",
       "\n",
       "                   actors    production_crew  \n",
       "id                                            \n",
       "426067  Lisa Hart Carroll         Pece Dingo  \n",
       "426469       Roni Akurati       Frank Lotito  \n",
       "433715      Nicole Smolen       Jaco Booyens  \n",
       "447027                NaN                NaN  \n",
       "459488    Tony Oppedisano  Simon Napier-Bell  "
      ]
     },
     "execution_count": 89,
     "metadata": {},
     "output_type": "execute_result"
    }
   ],
   "source": [
    "import json\n",
    "def extract_data(row, col_name, iso_num):\n",
    "    langperligne = 0\n",
    "    lst = json.loads(row[col_name])\n",
    "    try:\n",
    "        item = lst[0]\n",
    "        langperligne = item[iso_num]\n",
    "    except:\n",
    "        langperligne = np.nan\n",
    "    return langperligne\n",
    "\n",
    "data_combind['countries_of_production'] = data_combind.apply(lambda row: extract_data(row, 'countries_of_production', 'iso_3166_1'), axis=1)\n",
    "data_combind['spoken_languages'] = data_combind.apply(lambda row: extract_data(row, 'spoken_languages', 'iso_639_1'), axis=1)\n",
    "data_combind['genres'] = data_combind.apply(lambda row: extract_data(row, 'genres', 'name'), axis=1)\n",
    "data_combind['production'] = data_combind.apply(lambda row: extract_data(row, 'production', 'name'), axis=1)\n",
    "data_combind['actors'] = data_combind.apply(lambda row: extract_data(row, 'actors', 'name'), axis=1)\n",
    "data_combind['production_crew'] = data_combind.apply(lambda row: extract_data(row, 'production_crew', 'name'), axis=1)\n",
    "data_combind[cat_cols].tail()"
   ]
  },
  {
   "cell_type": "markdown",
   "metadata": {},
   "source": [
    "In the result showed above we have clean columns with the first value of the list that has been chosen. But there is still work to be done:\n",
    "- we have to replace the missing values 'NaN', that had been replaced before, by something relevant \n",
    "- the release column is too precise, it shows the specific day when the film has been released, but it creates too much different categories.\n",
    "\n",
    "For the first point we will use an imputer that will create a dataframe based on the original but it will replace all of the 'NaN' values by something else, here we will chose to replace them by the most frequent value in the given column."
   ]
  },
  {
   "cell_type": "code",
   "execution_count": 97,
   "metadata": {},
   "outputs": [
    {
     "data": {
      "text/html": [
       "<div>\n",
       "<style scoped>\n",
       "    .dataframe tbody tr th:only-of-type {\n",
       "        vertical-align: middle;\n",
       "    }\n",
       "\n",
       "    .dataframe tbody tr th {\n",
       "        vertical-align: top;\n",
       "    }\n",
       "\n",
       "    .dataframe thead th {\n",
       "        text-align: right;\n",
       "    }\n",
       "</style>\n",
       "<table border=\"1\" class=\"dataframe\">\n",
       "  <thead>\n",
       "    <tr style=\"text-align: right;\">\n",
       "      <th></th>\n",
       "      <th>spoken_languages</th>\n",
       "      <th>release</th>\n",
       "      <th>countries_of_production</th>\n",
       "      <th>production</th>\n",
       "      <th>original_language</th>\n",
       "      <th>genres</th>\n",
       "      <th>actors</th>\n",
       "      <th>production_crew</th>\n",
       "    </tr>\n",
       "  </thead>\n",
       "  <tbody>\n",
       "    <tr>\n",
       "      <th>4750</th>\n",
       "      <td>en</td>\n",
       "      <td>1990-01-01</td>\n",
       "      <td>US</td>\n",
       "      <td>Paramount Pictures</td>\n",
       "      <td>en</td>\n",
       "      <td>Horror</td>\n",
       "      <td>Lisa Hart Carroll</td>\n",
       "      <td>Pece Dingo</td>\n",
       "    </tr>\n",
       "    <tr>\n",
       "      <th>4751</th>\n",
       "      <td>en</td>\n",
       "      <td>2017-02-03</td>\n",
       "      <td>US</td>\n",
       "      <td>Paramount Pictures</td>\n",
       "      <td>en</td>\n",
       "      <td>Comedy</td>\n",
       "      <td>Roni Akurati</td>\n",
       "      <td>Frank Lotito</td>\n",
       "    </tr>\n",
       "    <tr>\n",
       "      <th>4752</th>\n",
       "      <td>en</td>\n",
       "      <td>2014-06-15</td>\n",
       "      <td>US</td>\n",
       "      <td>After Eden Pictures</td>\n",
       "      <td>en</td>\n",
       "      <td>Thriller</td>\n",
       "      <td>Nicole Smolen</td>\n",
       "      <td>Jaco Booyens</td>\n",
       "    </tr>\n",
       "    <tr>\n",
       "      <th>4753</th>\n",
       "      <td>en</td>\n",
       "      <td>2015-10-27</td>\n",
       "      <td>US</td>\n",
       "      <td>New Kingdom Pictures</td>\n",
       "      <td>en</td>\n",
       "      <td>Family</td>\n",
       "      <td>Bruce Willis</td>\n",
       "      <td>Avy Kaufman</td>\n",
       "    </tr>\n",
       "    <tr>\n",
       "      <th>4754</th>\n",
       "      <td>en</td>\n",
       "      <td>2015-12-12</td>\n",
       "      <td>GB</td>\n",
       "      <td>Eyeline Entertainment</td>\n",
       "      <td>en</td>\n",
       "      <td>Documentary</td>\n",
       "      <td>Tony Oppedisano</td>\n",
       "      <td>Simon Napier-Bell</td>\n",
       "    </tr>\n",
       "  </tbody>\n",
       "</table>\n",
       "</div>"
      ],
      "text/plain": [
       "     spoken_languages     release countries_of_production  \\\n",
       "4750               en  1990-01-01                      US   \n",
       "4751               en  2017-02-03                      US   \n",
       "4752               en  2014-06-15                      US   \n",
       "4753               en  2015-10-27                      US   \n",
       "4754               en  2015-12-12                      GB   \n",
       "\n",
       "                 production original_language       genres             actors  \\\n",
       "4750     Paramount Pictures                en       Horror  Lisa Hart Carroll   \n",
       "4751     Paramount Pictures                en       Comedy       Roni Akurati   \n",
       "4752    After Eden Pictures                en     Thriller      Nicole Smolen   \n",
       "4753   New Kingdom Pictures                en       Family       Bruce Willis   \n",
       "4754  Eyeline Entertainment                en  Documentary    Tony Oppedisano   \n",
       "\n",
       "        production_crew  \n",
       "4750         Pece Dingo  \n",
       "4751       Frank Lotito  \n",
       "4752       Jaco Booyens  \n",
       "4753        Avy Kaufman  \n",
       "4754  Simon Napier-Bell  "
      ]
     },
     "execution_count": 97,
     "metadata": {},
     "output_type": "execute_result"
    }
   ],
   "source": [
    "from sklearn.impute import SimpleImputer\n",
    "\n",
    "my_imputer = SimpleImputer(strategy='most_frequent')\n",
    "data_imputed = pd.DataFrame(my_imputer.fit_transform(data_combind))\n",
    "data_imputed.columns = data_combind.columns\n",
    "data_imputed = data_imputed.astype(data_combind.dtypes)\n",
    "data_imputed[cat_cols].tail()"
   ]
  },
  {
   "cell_type": "markdown",
   "metadata": {},
   "source": [
    "for the release column, We will only take the year of the date "
   ]
  },
  {
   "cell_type": "code",
   "execution_count": 98,
   "metadata": {},
   "outputs": [
    {
     "data": {
      "text/html": [
       "<div>\n",
       "<style scoped>\n",
       "    .dataframe tbody tr th:only-of-type {\n",
       "        vertical-align: middle;\n",
       "    }\n",
       "\n",
       "    .dataframe tbody tr th {\n",
       "        vertical-align: top;\n",
       "    }\n",
       "\n",
       "    .dataframe thead th {\n",
       "        text-align: right;\n",
       "    }\n",
       "</style>\n",
       "<table border=\"1\" class=\"dataframe\">\n",
       "  <thead>\n",
       "    <tr style=\"text-align: right;\">\n",
       "      <th></th>\n",
       "      <th>spoken_languages</th>\n",
       "      <th>release</th>\n",
       "      <th>countries_of_production</th>\n",
       "      <th>production</th>\n",
       "      <th>original_language</th>\n",
       "      <th>genres</th>\n",
       "      <th>actors</th>\n",
       "      <th>production_crew</th>\n",
       "    </tr>\n",
       "  </thead>\n",
       "  <tbody>\n",
       "    <tr>\n",
       "      <th>4750</th>\n",
       "      <td>en</td>\n",
       "      <td>1990</td>\n",
       "      <td>US</td>\n",
       "      <td>Paramount Pictures</td>\n",
       "      <td>en</td>\n",
       "      <td>Horror</td>\n",
       "      <td>Lisa Hart Carroll</td>\n",
       "      <td>Pece Dingo</td>\n",
       "    </tr>\n",
       "    <tr>\n",
       "      <th>4751</th>\n",
       "      <td>en</td>\n",
       "      <td>2017</td>\n",
       "      <td>US</td>\n",
       "      <td>Paramount Pictures</td>\n",
       "      <td>en</td>\n",
       "      <td>Comedy</td>\n",
       "      <td>Roni Akurati</td>\n",
       "      <td>Frank Lotito</td>\n",
       "    </tr>\n",
       "    <tr>\n",
       "      <th>4752</th>\n",
       "      <td>en</td>\n",
       "      <td>2014</td>\n",
       "      <td>US</td>\n",
       "      <td>After Eden Pictures</td>\n",
       "      <td>en</td>\n",
       "      <td>Thriller</td>\n",
       "      <td>Nicole Smolen</td>\n",
       "      <td>Jaco Booyens</td>\n",
       "    </tr>\n",
       "    <tr>\n",
       "      <th>4753</th>\n",
       "      <td>en</td>\n",
       "      <td>2015</td>\n",
       "      <td>US</td>\n",
       "      <td>New Kingdom Pictures</td>\n",
       "      <td>en</td>\n",
       "      <td>Family</td>\n",
       "      <td>Bruce Willis</td>\n",
       "      <td>Avy Kaufman</td>\n",
       "    </tr>\n",
       "    <tr>\n",
       "      <th>4754</th>\n",
       "      <td>en</td>\n",
       "      <td>2015</td>\n",
       "      <td>GB</td>\n",
       "      <td>Eyeline Entertainment</td>\n",
       "      <td>en</td>\n",
       "      <td>Documentary</td>\n",
       "      <td>Tony Oppedisano</td>\n",
       "      <td>Simon Napier-Bell</td>\n",
       "    </tr>\n",
       "  </tbody>\n",
       "</table>\n",
       "</div>"
      ],
      "text/plain": [
       "     spoken_languages release countries_of_production             production  \\\n",
       "4750               en    1990                      US     Paramount Pictures   \n",
       "4751               en    2017                      US     Paramount Pictures   \n",
       "4752               en    2014                      US    After Eden Pictures   \n",
       "4753               en    2015                      US   New Kingdom Pictures   \n",
       "4754               en    2015                      GB  Eyeline Entertainment   \n",
       "\n",
       "     original_language       genres             actors    production_crew  \n",
       "4750                en       Horror  Lisa Hart Carroll         Pece Dingo  \n",
       "4751                en       Comedy       Roni Akurati       Frank Lotito  \n",
       "4752                en     Thriller      Nicole Smolen       Jaco Booyens  \n",
       "4753                en       Family       Bruce Willis        Avy Kaufman  \n",
       "4754                en  Documentary    Tony Oppedisano  Simon Napier-Bell  "
      ]
     },
     "execution_count": 98,
     "metadata": {},
     "output_type": "execute_result"
    }
   ],
   "source": [
    "data_imputed['release'] = data_imputed['release'].str.slice(stop=4)\n",
    "data_imputed[cat_cols].tail()"
   ]
  },
  {
   "cell_type": "markdown",
   "metadata": {},
   "source": [
    "Now we have a clean dataset with only one value to be used per object instead of a list of dictionnaries and we can work with it.\n"
   ]
  },
  {
   "cell_type": "code",
   "execution_count": 99,
   "metadata": {},
   "outputs": [
    {
     "data": {
      "text/plain": [
       "spoken_languages             56\n",
       "release                      90\n",
       "countries_of_production      70\n",
       "production                 1306\n",
       "original_language            37\n",
       "genres                       20\n",
       "actors                     2084\n",
       "production_crew            2213\n",
       "dtype: int64"
      ]
     },
     "execution_count": 99,
     "metadata": {},
     "output_type": "execute_result"
    }
   ],
   "source": [
    "data_imputed[cat_cols].nunique()"
   ]
  },
  {
   "cell_type": "code",
   "execution_count": 100,
   "metadata": {},
   "outputs": [
    {
     "name": "stdout",
     "output_type": "stream",
     "text": [
      "<class 'pandas.core.frame.DataFrame'>\n",
      "RangeIndex: 4755 entries, 0 to 4754\n",
      "Data columns (total 14 columns):\n",
      " #   Column                   Non-Null Count  Dtype  \n",
      "---  ------                   --------------  -----  \n",
      " 0   vote_count               4755 non-null   int64  \n",
      " 1   vote_average             4755 non-null   float64\n",
      " 2   spoken_languages         4755 non-null   object \n",
      " 3   duration                 4755 non-null   float64\n",
      " 4   revenue                  4755 non-null   float64\n",
      " 5   release                  4755 non-null   object \n",
      " 6   countries_of_production  4755 non-null   object \n",
      " 7   production               4755 non-null   object \n",
      " 8   popularity               4755 non-null   float64\n",
      " 9   original_language        4755 non-null   object \n",
      " 10  genres                   4755 non-null   object \n",
      " 11  financial_investment     4755 non-null   float64\n",
      " 12  actors                   4755 non-null   object \n",
      " 13  production_crew          4755 non-null   object \n",
      "dtypes: float64(5), int64(1), object(8)\n",
      "memory usage: 520.2+ KB\n"
     ]
    }
   ],
   "source": [
    "\n",
    "data_imputed.info()\n",
    "# data_combind.loc[data_combind['production'] == 'Lucasfilm']\n",
    "# data_combind.loc[data_combind['revenue']]\n",
    "# data_combind.sort_values(by='revenue', ascending=False\n",
    "# data_combind['genres'].nunique().count()\n",
    "# data_combind['genres']\n",
    "# data_combind.sort_values(by = 'title')\n",
    "# data_combind.drop(data_combind['release'].isnull())\n",
    "# data_combind.dropna(subset=['release'], inplace=True)\n",
    "# data_combind[data_combind['genres'] == '[]']\n",
    "# data_combind[significant_features].isnull().sum()\n",
    "# data_combind.loc[(data_combind['financial_investment'] == 0.0) & (data_combind['revenue'] != 0.0) ].count()"
   ]
  },
  {
   "cell_type": "code",
   "execution_count": 114,
   "metadata": {},
   "outputs": [],
   "source": [
    "from sklearn.preprocessing import OrdinalEncoder\n",
    "\n",
    "# Assuming your dataset is a DataFrame and significant_features is your list of features\n",
    "significant_features_to_encoder = ['spoken_languages','countries_of_production', 'production', 'original_language', 'genres', 'actors','production_crew']\n",
    "\n",
    "# Initialize OrdinalEncoder\n",
    "ordinal_encoder = OrdinalEncoder()\n",
    "\n",
    "# Fit and transform the selected features\n",
    "encoded_features = ordinal_encoder.fit_transform(data_imputed[significant_features_to_encoder])\n",
    "\n",
    "# Update the DataFrame with encoded values\n",
    "data_imputed[significant_features_to_encoder] = encoded_features\n",
    "\n",
    "data_imputed['release'] = data_imputed['release'].astype(np.int64)"
   ]
  },
  {
   "cell_type": "code",
   "execution_count": 115,
   "metadata": {},
   "outputs": [
    {
     "name": "stdout",
     "output_type": "stream",
     "text": [
      "<class 'pandas.core.frame.DataFrame'>\n",
      "RangeIndex: 4755 entries, 0 to 4754\n",
      "Data columns (total 14 columns):\n",
      " #   Column                   Non-Null Count  Dtype  \n",
      "---  ------                   --------------  -----  \n",
      " 0   vote_count               4755 non-null   int64  \n",
      " 1   vote_average             4755 non-null   float64\n",
      " 2   spoken_languages         4755 non-null   float64\n",
      " 3   duration                 4755 non-null   float64\n",
      " 4   revenue                  4755 non-null   float64\n",
      " 5   release                  4755 non-null   int64  \n",
      " 6   countries_of_production  4755 non-null   float64\n",
      " 7   production               4755 non-null   float64\n",
      " 8   popularity               4755 non-null   float64\n",
      " 9   original_language        4755 non-null   float64\n",
      " 10  genres                   4755 non-null   float64\n",
      " 11  financial_investment     4755 non-null   float64\n",
      " 12  actors                   4755 non-null   float64\n",
      " 13  production_crew          4755 non-null   float64\n",
      "dtypes: float64(12), int64(2)\n",
      "memory usage: 520.2 KB\n"
     ]
    }
   ],
   "source": [
    "data_imputed.info()"
   ]
  },
  {
   "cell_type": "code",
   "execution_count": 105,
   "metadata": {},
   "outputs": [
    {
     "data": {
      "text/html": [
       "<div>\n",
       "<style scoped>\n",
       "    .dataframe tbody tr th:only-of-type {\n",
       "        vertical-align: middle;\n",
       "    }\n",
       "\n",
       "    .dataframe tbody tr th {\n",
       "        vertical-align: top;\n",
       "    }\n",
       "\n",
       "    .dataframe thead th {\n",
       "        text-align: right;\n",
       "    }\n",
       "</style>\n",
       "<table border=\"1\" class=\"dataframe\">\n",
       "  <thead>\n",
       "    <tr style=\"text-align: right;\">\n",
       "      <th></th>\n",
       "      <th>vote_count</th>\n",
       "      <th>vote_average</th>\n",
       "      <th>spoken_languages</th>\n",
       "      <th>duration</th>\n",
       "      <th>revenue</th>\n",
       "      <th>release</th>\n",
       "      <th>countries_of_production</th>\n",
       "      <th>production</th>\n",
       "      <th>popularity</th>\n",
       "      <th>original_language</th>\n",
       "      <th>genres</th>\n",
       "      <th>financial_investment</th>\n",
       "      <th>actors</th>\n",
       "      <th>production_crew</th>\n",
       "    </tr>\n",
       "  </thead>\n",
       "  <tbody>\n",
       "    <tr>\n",
       "      <th>0</th>\n",
       "      <td>530</td>\n",
       "      <td>6.5</td>\n",
       "      <td>13.0</td>\n",
       "      <td>98.0</td>\n",
       "      <td>4300000.0</td>\n",
       "      <td>1995</td>\n",
       "      <td>68.0</td>\n",
       "      <td>786.0</td>\n",
       "      <td>22.876230</td>\n",
       "      <td>7.0</td>\n",
       "      <td>4.0</td>\n",
       "      <td>4000000.0</td>\n",
       "      <td>1944.0</td>\n",
       "      <td>61.0</td>\n",
       "    </tr>\n",
       "    <tr>\n",
       "      <th>1</th>\n",
       "      <td>6624</td>\n",
       "      <td>6.0</td>\n",
       "      <td>13.0</td>\n",
       "      <td>121.0</td>\n",
       "      <td>775398007.0</td>\n",
       "      <td>1977</td>\n",
       "      <td>68.0</td>\n",
       "      <td>722.0</td>\n",
       "      <td>126.393695</td>\n",
       "      <td>7.0</td>\n",
       "      <td>1.0</td>\n",
       "      <td>11000000.0</td>\n",
       "      <td>1303.0</td>\n",
       "      <td>735.0</td>\n",
       "    </tr>\n",
       "    <tr>\n",
       "      <th>2</th>\n",
       "      <td>6122</td>\n",
       "      <td>7.6</td>\n",
       "      <td>13.0</td>\n",
       "      <td>100.0</td>\n",
       "      <td>940335536.0</td>\n",
       "      <td>2003</td>\n",
       "      <td>68.0</td>\n",
       "      <td>917.0</td>\n",
       "      <td>85.688789</td>\n",
       "      <td>7.0</td>\n",
       "      <td>2.0</td>\n",
       "      <td>94000000.0</td>\n",
       "      <td>50.0</td>\n",
       "      <td>85.0</td>\n",
       "    </tr>\n",
       "    <tr>\n",
       "      <th>3</th>\n",
       "      <td>7927</td>\n",
       "      <td>8.2</td>\n",
       "      <td>13.0</td>\n",
       "      <td>142.0</td>\n",
       "      <td>677945399.0</td>\n",
       "      <td>1994</td>\n",
       "      <td>68.0</td>\n",
       "      <td>890.0</td>\n",
       "      <td>138.133331</td>\n",
       "      <td>7.0</td>\n",
       "      <td>3.0</td>\n",
       "      <td>55000000.0</td>\n",
       "      <td>1964.0</td>\n",
       "      <td>34.0</td>\n",
       "    </tr>\n",
       "    <tr>\n",
       "      <th>4</th>\n",
       "      <td>3313</td>\n",
       "      <td>7.9</td>\n",
       "      <td>13.0</td>\n",
       "      <td>122.0</td>\n",
       "      <td>356296601.0</td>\n",
       "      <td>1999</td>\n",
       "      <td>68.0</td>\n",
       "      <td>349.0</td>\n",
       "      <td>80.878605</td>\n",
       "      <td>7.0</td>\n",
       "      <td>6.0</td>\n",
       "      <td>15000000.0</td>\n",
       "      <td>1126.0</td>\n",
       "      <td>2053.0</td>\n",
       "    </tr>\n",
       "  </tbody>\n",
       "</table>\n",
       "</div>"
      ],
      "text/plain": [
       "   vote_count  vote_average  spoken_languages  duration      revenue  release  \\\n",
       "0         530           6.5              13.0      98.0    4300000.0     1995   \n",
       "1        6624           6.0              13.0     121.0  775398007.0     1977   \n",
       "2        6122           7.6              13.0     100.0  940335536.0     2003   \n",
       "3        7927           8.2              13.0     142.0  677945399.0     1994   \n",
       "4        3313           7.9              13.0     122.0  356296601.0     1999   \n",
       "\n",
       "   countries_of_production  production  popularity  original_language  genres  \\\n",
       "0                     68.0       786.0   22.876230                7.0     4.0   \n",
       "1                     68.0       722.0  126.393695                7.0     1.0   \n",
       "2                     68.0       917.0   85.688789                7.0     2.0   \n",
       "3                     68.0       890.0  138.133331                7.0     3.0   \n",
       "4                     68.0       349.0   80.878605                7.0     6.0   \n",
       "\n",
       "   financial_investment  actors  production_crew  \n",
       "0             4000000.0  1944.0             61.0  \n",
       "1            11000000.0  1303.0            735.0  \n",
       "2            94000000.0    50.0             85.0  \n",
       "3            55000000.0  1964.0             34.0  \n",
       "4            15000000.0  1126.0           2053.0  "
      ]
     },
     "execution_count": 105,
     "metadata": {},
     "output_type": "execute_result"
    }
   ],
   "source": [
    "data_imputed.head()\n"
   ]
  },
  {
   "cell_type": "markdown",
   "metadata": {},
   "source": [
    "### Split the dataset into training, validation, and test sets"
   ]
  },
  {
   "cell_type": "code",
   "execution_count": 120,
   "metadata": {},
   "outputs": [],
   "source": [
    "from sklearn.model_selection import train_test_split\n",
    "significant_features = ['vote_count', 'vote_average','spoken_languages', 'duration','release','countries_of_production', 'production',\n",
    "        'popularity','original_language', 'genres', 'financial_investment', 'actors','production_crew']\n",
    "\n",
    "X = data_imputed[significant_features]\n",
    "y = data_imputed['revenue']\n",
    "\n",
    "# Assuming X contains your features and y contains your target variable\n",
    "X_train_val, X_test, y_train_val, y_test = train_test_split(X, y, test_size=0.2, random_state=42)\n",
    "\n",
    "# Further split the training and validation sets\n",
    "X_train, X_val, y_train, y_val = train_test_split(X_train_val, y_train_val, test_size=0.25, random_state=42)"
   ]
  },
  {
   "cell_type": "markdown",
   "metadata": {},
   "source": [
    "## D) Model Comparison and Hyperparameter selection"
   ]
  },
  {
   "cell_type": "markdown",
   "metadata": {},
   "source": [
    "Random forest"
   ]
  },
  {
   "cell_type": "code",
   "execution_count": 121,
   "metadata": {},
   "outputs": [
    {
     "data": {
      "text/html": [
       "<style>#sk-container-id-5 {\n",
       "  /* Definition of color scheme common for light and dark mode */\n",
       "  --sklearn-color-text: black;\n",
       "  --sklearn-color-line: gray;\n",
       "  /* Definition of color scheme for unfitted estimators */\n",
       "  --sklearn-color-unfitted-level-0: #fff5e6;\n",
       "  --sklearn-color-unfitted-level-1: #f6e4d2;\n",
       "  --sklearn-color-unfitted-level-2: #ffe0b3;\n",
       "  --sklearn-color-unfitted-level-3: chocolate;\n",
       "  /* Definition of color scheme for fitted estimators */\n",
       "  --sklearn-color-fitted-level-0: #f0f8ff;\n",
       "  --sklearn-color-fitted-level-1: #d4ebff;\n",
       "  --sklearn-color-fitted-level-2: #b3dbfd;\n",
       "  --sklearn-color-fitted-level-3: cornflowerblue;\n",
       "\n",
       "  /* Specific color for light theme */\n",
       "  --sklearn-color-text-on-default-background: var(--sg-text-color, var(--theme-code-foreground, var(--jp-content-font-color1, black)));\n",
       "  --sklearn-color-background: var(--sg-background-color, var(--theme-background, var(--jp-layout-color0, white)));\n",
       "  --sklearn-color-border-box: var(--sg-text-color, var(--theme-code-foreground, var(--jp-content-font-color1, black)));\n",
       "  --sklearn-color-icon: #696969;\n",
       "\n",
       "  @media (prefers-color-scheme: dark) {\n",
       "    /* Redefinition of color scheme for dark theme */\n",
       "    --sklearn-color-text-on-default-background: var(--sg-text-color, var(--theme-code-foreground, var(--jp-content-font-color1, white)));\n",
       "    --sklearn-color-background: var(--sg-background-color, var(--theme-background, var(--jp-layout-color0, #111)));\n",
       "    --sklearn-color-border-box: var(--sg-text-color, var(--theme-code-foreground, var(--jp-content-font-color1, white)));\n",
       "    --sklearn-color-icon: #878787;\n",
       "  }\n",
       "}\n",
       "\n",
       "#sk-container-id-5 {\n",
       "  color: var(--sklearn-color-text);\n",
       "}\n",
       "\n",
       "#sk-container-id-5 pre {\n",
       "  padding: 0;\n",
       "}\n",
       "\n",
       "#sk-container-id-5 input.sk-hidden--visually {\n",
       "  border: 0;\n",
       "  clip: rect(1px 1px 1px 1px);\n",
       "  clip: rect(1px, 1px, 1px, 1px);\n",
       "  height: 1px;\n",
       "  margin: -1px;\n",
       "  overflow: hidden;\n",
       "  padding: 0;\n",
       "  position: absolute;\n",
       "  width: 1px;\n",
       "}\n",
       "\n",
       "#sk-container-id-5 div.sk-dashed-wrapped {\n",
       "  border: 1px dashed var(--sklearn-color-line);\n",
       "  margin: 0 0.4em 0.5em 0.4em;\n",
       "  box-sizing: border-box;\n",
       "  padding-bottom: 0.4em;\n",
       "  background-color: var(--sklearn-color-background);\n",
       "}\n",
       "\n",
       "#sk-container-id-5 div.sk-container {\n",
       "  /* jupyter's `normalize.less` sets `[hidden] { display: none; }`\n",
       "     but bootstrap.min.css set `[hidden] { display: none !important; }`\n",
       "     so we also need the `!important` here to be able to override the\n",
       "     default hidden behavior on the sphinx rendered scikit-learn.org.\n",
       "     See: https://github.com/scikit-learn/scikit-learn/issues/21755 */\n",
       "  display: inline-block !important;\n",
       "  position: relative;\n",
       "}\n",
       "\n",
       "#sk-container-id-5 div.sk-text-repr-fallback {\n",
       "  display: none;\n",
       "}\n",
       "\n",
       "div.sk-parallel-item,\n",
       "div.sk-serial,\n",
       "div.sk-item {\n",
       "  /* draw centered vertical line to link estimators */\n",
       "  background-image: linear-gradient(var(--sklearn-color-text-on-default-background), var(--sklearn-color-text-on-default-background));\n",
       "  background-size: 2px 100%;\n",
       "  background-repeat: no-repeat;\n",
       "  background-position: center center;\n",
       "}\n",
       "\n",
       "/* Parallel-specific style estimator block */\n",
       "\n",
       "#sk-container-id-5 div.sk-parallel-item::after {\n",
       "  content: \"\";\n",
       "  width: 100%;\n",
       "  border-bottom: 2px solid var(--sklearn-color-text-on-default-background);\n",
       "  flex-grow: 1;\n",
       "}\n",
       "\n",
       "#sk-container-id-5 div.sk-parallel {\n",
       "  display: flex;\n",
       "  align-items: stretch;\n",
       "  justify-content: center;\n",
       "  background-color: var(--sklearn-color-background);\n",
       "  position: relative;\n",
       "}\n",
       "\n",
       "#sk-container-id-5 div.sk-parallel-item {\n",
       "  display: flex;\n",
       "  flex-direction: column;\n",
       "}\n",
       "\n",
       "#sk-container-id-5 div.sk-parallel-item:first-child::after {\n",
       "  align-self: flex-end;\n",
       "  width: 50%;\n",
       "}\n",
       "\n",
       "#sk-container-id-5 div.sk-parallel-item:last-child::after {\n",
       "  align-self: flex-start;\n",
       "  width: 50%;\n",
       "}\n",
       "\n",
       "#sk-container-id-5 div.sk-parallel-item:only-child::after {\n",
       "  width: 0;\n",
       "}\n",
       "\n",
       "/* Serial-specific style estimator block */\n",
       "\n",
       "#sk-container-id-5 div.sk-serial {\n",
       "  display: flex;\n",
       "  flex-direction: column;\n",
       "  align-items: center;\n",
       "  background-color: var(--sklearn-color-background);\n",
       "  padding-right: 1em;\n",
       "  padding-left: 1em;\n",
       "}\n",
       "\n",
       "\n",
       "/* Toggleable style: style used for estimator/Pipeline/ColumnTransformer box that is\n",
       "clickable and can be expanded/collapsed.\n",
       "- Pipeline and ColumnTransformer use this feature and define the default style\n",
       "- Estimators will overwrite some part of the style using the `sk-estimator` class\n",
       "*/\n",
       "\n",
       "/* Pipeline and ColumnTransformer style (default) */\n",
       "\n",
       "#sk-container-id-5 div.sk-toggleable {\n",
       "  /* Default theme specific background. It is overwritten whether we have a\n",
       "  specific estimator or a Pipeline/ColumnTransformer */\n",
       "  background-color: var(--sklearn-color-background);\n",
       "}\n",
       "\n",
       "/* Toggleable label */\n",
       "#sk-container-id-5 label.sk-toggleable__label {\n",
       "  cursor: pointer;\n",
       "  display: block;\n",
       "  width: 100%;\n",
       "  margin-bottom: 0;\n",
       "  padding: 0.5em;\n",
       "  box-sizing: border-box;\n",
       "  text-align: center;\n",
       "}\n",
       "\n",
       "#sk-container-id-5 label.sk-toggleable__label-arrow:before {\n",
       "  /* Arrow on the left of the label */\n",
       "  content: \"▸\";\n",
       "  float: left;\n",
       "  margin-right: 0.25em;\n",
       "  color: var(--sklearn-color-icon);\n",
       "}\n",
       "\n",
       "#sk-container-id-5 label.sk-toggleable__label-arrow:hover:before {\n",
       "  color: var(--sklearn-color-text);\n",
       "}\n",
       "\n",
       "/* Toggleable content - dropdown */\n",
       "\n",
       "#sk-container-id-5 div.sk-toggleable__content {\n",
       "  max-height: 0;\n",
       "  max-width: 0;\n",
       "  overflow: hidden;\n",
       "  text-align: left;\n",
       "  /* unfitted */\n",
       "  background-color: var(--sklearn-color-unfitted-level-0);\n",
       "}\n",
       "\n",
       "#sk-container-id-5 div.sk-toggleable__content.fitted {\n",
       "  /* fitted */\n",
       "  background-color: var(--sklearn-color-fitted-level-0);\n",
       "}\n",
       "\n",
       "#sk-container-id-5 div.sk-toggleable__content pre {\n",
       "  margin: 0.2em;\n",
       "  border-radius: 0.25em;\n",
       "  color: var(--sklearn-color-text);\n",
       "  /* unfitted */\n",
       "  background-color: var(--sklearn-color-unfitted-level-0);\n",
       "}\n",
       "\n",
       "#sk-container-id-5 div.sk-toggleable__content.fitted pre {\n",
       "  /* unfitted */\n",
       "  background-color: var(--sklearn-color-fitted-level-0);\n",
       "}\n",
       "\n",
       "#sk-container-id-5 input.sk-toggleable__control:checked~div.sk-toggleable__content {\n",
       "  /* Expand drop-down */\n",
       "  max-height: 200px;\n",
       "  max-width: 100%;\n",
       "  overflow: auto;\n",
       "}\n",
       "\n",
       "#sk-container-id-5 input.sk-toggleable__control:checked~label.sk-toggleable__label-arrow:before {\n",
       "  content: \"▾\";\n",
       "}\n",
       "\n",
       "/* Pipeline/ColumnTransformer-specific style */\n",
       "\n",
       "#sk-container-id-5 div.sk-label input.sk-toggleable__control:checked~label.sk-toggleable__label {\n",
       "  color: var(--sklearn-color-text);\n",
       "  background-color: var(--sklearn-color-unfitted-level-2);\n",
       "}\n",
       "\n",
       "#sk-container-id-5 div.sk-label.fitted input.sk-toggleable__control:checked~label.sk-toggleable__label {\n",
       "  background-color: var(--sklearn-color-fitted-level-2);\n",
       "}\n",
       "\n",
       "/* Estimator-specific style */\n",
       "\n",
       "/* Colorize estimator box */\n",
       "#sk-container-id-5 div.sk-estimator input.sk-toggleable__control:checked~label.sk-toggleable__label {\n",
       "  /* unfitted */\n",
       "  background-color: var(--sklearn-color-unfitted-level-2);\n",
       "}\n",
       "\n",
       "#sk-container-id-5 div.sk-estimator.fitted input.sk-toggleable__control:checked~label.sk-toggleable__label {\n",
       "  /* fitted */\n",
       "  background-color: var(--sklearn-color-fitted-level-2);\n",
       "}\n",
       "\n",
       "#sk-container-id-5 div.sk-label label.sk-toggleable__label,\n",
       "#sk-container-id-5 div.sk-label label {\n",
       "  /* The background is the default theme color */\n",
       "  color: var(--sklearn-color-text-on-default-background);\n",
       "}\n",
       "\n",
       "/* On hover, darken the color of the background */\n",
       "#sk-container-id-5 div.sk-label:hover label.sk-toggleable__label {\n",
       "  color: var(--sklearn-color-text);\n",
       "  background-color: var(--sklearn-color-unfitted-level-2);\n",
       "}\n",
       "\n",
       "/* Label box, darken color on hover, fitted */\n",
       "#sk-container-id-5 div.sk-label.fitted:hover label.sk-toggleable__label.fitted {\n",
       "  color: var(--sklearn-color-text);\n",
       "  background-color: var(--sklearn-color-fitted-level-2);\n",
       "}\n",
       "\n",
       "/* Estimator label */\n",
       "\n",
       "#sk-container-id-5 div.sk-label label {\n",
       "  font-family: monospace;\n",
       "  font-weight: bold;\n",
       "  display: inline-block;\n",
       "  line-height: 1.2em;\n",
       "}\n",
       "\n",
       "#sk-container-id-5 div.sk-label-container {\n",
       "  text-align: center;\n",
       "}\n",
       "\n",
       "/* Estimator-specific */\n",
       "#sk-container-id-5 div.sk-estimator {\n",
       "  font-family: monospace;\n",
       "  border: 1px dotted var(--sklearn-color-border-box);\n",
       "  border-radius: 0.25em;\n",
       "  box-sizing: border-box;\n",
       "  margin-bottom: 0.5em;\n",
       "  /* unfitted */\n",
       "  background-color: var(--sklearn-color-unfitted-level-0);\n",
       "}\n",
       "\n",
       "#sk-container-id-5 div.sk-estimator.fitted {\n",
       "  /* fitted */\n",
       "  background-color: var(--sklearn-color-fitted-level-0);\n",
       "}\n",
       "\n",
       "/* on hover */\n",
       "#sk-container-id-5 div.sk-estimator:hover {\n",
       "  /* unfitted */\n",
       "  background-color: var(--sklearn-color-unfitted-level-2);\n",
       "}\n",
       "\n",
       "#sk-container-id-5 div.sk-estimator.fitted:hover {\n",
       "  /* fitted */\n",
       "  background-color: var(--sklearn-color-fitted-level-2);\n",
       "}\n",
       "\n",
       "/* Specification for estimator info (e.g. \"i\" and \"?\") */\n",
       "\n",
       "/* Common style for \"i\" and \"?\" */\n",
       "\n",
       ".sk-estimator-doc-link,\n",
       "a:link.sk-estimator-doc-link,\n",
       "a:visited.sk-estimator-doc-link {\n",
       "  float: right;\n",
       "  font-size: smaller;\n",
       "  line-height: 1em;\n",
       "  font-family: monospace;\n",
       "  background-color: var(--sklearn-color-background);\n",
       "  border-radius: 1em;\n",
       "  height: 1em;\n",
       "  width: 1em;\n",
       "  text-decoration: none !important;\n",
       "  margin-left: 1ex;\n",
       "  /* unfitted */\n",
       "  border: var(--sklearn-color-unfitted-level-1) 1pt solid;\n",
       "  color: var(--sklearn-color-unfitted-level-1);\n",
       "}\n",
       "\n",
       ".sk-estimator-doc-link.fitted,\n",
       "a:link.sk-estimator-doc-link.fitted,\n",
       "a:visited.sk-estimator-doc-link.fitted {\n",
       "  /* fitted */\n",
       "  border: var(--sklearn-color-fitted-level-1) 1pt solid;\n",
       "  color: var(--sklearn-color-fitted-level-1);\n",
       "}\n",
       "\n",
       "/* On hover */\n",
       "div.sk-estimator:hover .sk-estimator-doc-link:hover,\n",
       ".sk-estimator-doc-link:hover,\n",
       "div.sk-label-container:hover .sk-estimator-doc-link:hover,\n",
       ".sk-estimator-doc-link:hover {\n",
       "  /* unfitted */\n",
       "  background-color: var(--sklearn-color-unfitted-level-3);\n",
       "  color: var(--sklearn-color-background);\n",
       "  text-decoration: none;\n",
       "}\n",
       "\n",
       "div.sk-estimator.fitted:hover .sk-estimator-doc-link.fitted:hover,\n",
       ".sk-estimator-doc-link.fitted:hover,\n",
       "div.sk-label-container:hover .sk-estimator-doc-link.fitted:hover,\n",
       ".sk-estimator-doc-link.fitted:hover {\n",
       "  /* fitted */\n",
       "  background-color: var(--sklearn-color-fitted-level-3);\n",
       "  color: var(--sklearn-color-background);\n",
       "  text-decoration: none;\n",
       "}\n",
       "\n",
       "/* Span, style for the box shown on hovering the info icon */\n",
       ".sk-estimator-doc-link span {\n",
       "  display: none;\n",
       "  z-index: 9999;\n",
       "  position: relative;\n",
       "  font-weight: normal;\n",
       "  right: .2ex;\n",
       "  padding: .5ex;\n",
       "  margin: .5ex;\n",
       "  width: min-content;\n",
       "  min-width: 20ex;\n",
       "  max-width: 50ex;\n",
       "  color: var(--sklearn-color-text);\n",
       "  box-shadow: 2pt 2pt 4pt #999;\n",
       "  /* unfitted */\n",
       "  background: var(--sklearn-color-unfitted-level-0);\n",
       "  border: .5pt solid var(--sklearn-color-unfitted-level-3);\n",
       "}\n",
       "\n",
       ".sk-estimator-doc-link.fitted span {\n",
       "  /* fitted */\n",
       "  background: var(--sklearn-color-fitted-level-0);\n",
       "  border: var(--sklearn-color-fitted-level-3);\n",
       "}\n",
       "\n",
       ".sk-estimator-doc-link:hover span {\n",
       "  display: block;\n",
       "}\n",
       "\n",
       "/* \"?\"-specific style due to the `<a>` HTML tag */\n",
       "\n",
       "#sk-container-id-5 a.estimator_doc_link {\n",
       "  float: right;\n",
       "  font-size: 1rem;\n",
       "  line-height: 1em;\n",
       "  font-family: monospace;\n",
       "  background-color: var(--sklearn-color-background);\n",
       "  border-radius: 1rem;\n",
       "  height: 1rem;\n",
       "  width: 1rem;\n",
       "  text-decoration: none;\n",
       "  /* unfitted */\n",
       "  color: var(--sklearn-color-unfitted-level-1);\n",
       "  border: var(--sklearn-color-unfitted-level-1) 1pt solid;\n",
       "}\n",
       "\n",
       "#sk-container-id-5 a.estimator_doc_link.fitted {\n",
       "  /* fitted */\n",
       "  border: var(--sklearn-color-fitted-level-1) 1pt solid;\n",
       "  color: var(--sklearn-color-fitted-level-1);\n",
       "}\n",
       "\n",
       "/* On hover */\n",
       "#sk-container-id-5 a.estimator_doc_link:hover {\n",
       "  /* unfitted */\n",
       "  background-color: var(--sklearn-color-unfitted-level-3);\n",
       "  color: var(--sklearn-color-background);\n",
       "  text-decoration: none;\n",
       "}\n",
       "\n",
       "#sk-container-id-5 a.estimator_doc_link.fitted:hover {\n",
       "  /* fitted */\n",
       "  background-color: var(--sklearn-color-fitted-level-3);\n",
       "}\n",
       "</style><div id=\"sk-container-id-5\" class=\"sk-top-container\"><div class=\"sk-text-repr-fallback\"><pre>RandomForestRegressor(random_state=42)</pre><b>In a Jupyter environment, please rerun this cell to show the HTML representation or trust the notebook. <br />On GitHub, the HTML representation is unable to render, please try loading this page with nbviewer.org.</b></div><div class=\"sk-container\" hidden><div class=\"sk-item\"><div class=\"sk-estimator fitted sk-toggleable\"><input class=\"sk-toggleable__control sk-hidden--visually\" id=\"sk-estimator-id-5\" type=\"checkbox\" checked><label for=\"sk-estimator-id-5\" class=\"sk-toggleable__label fitted sk-toggleable__label-arrow fitted\">&nbsp;&nbsp;RandomForestRegressor<a class=\"sk-estimator-doc-link fitted\" rel=\"noreferrer\" target=\"_blank\" href=\"https://scikit-learn.org/1.4/modules/generated/sklearn.ensemble.RandomForestRegressor.html\">?<span>Documentation for RandomForestRegressor</span></a><span class=\"sk-estimator-doc-link fitted\">i<span>Fitted</span></span></label><div class=\"sk-toggleable__content fitted\"><pre>RandomForestRegressor(random_state=42)</pre></div> </div></div></div></div>"
      ],
      "text/plain": [
       "RandomForestRegressor(random_state=42)"
      ]
     },
     "execution_count": 121,
     "metadata": {},
     "output_type": "execute_result"
    }
   ],
   "source": [
    "from sklearn.ensemble import RandomForestRegressor\n",
    "\n",
    "# Initialize Random Forest model\n",
    "rf_model = RandomForestRegressor(n_estimators=100, random_state=42)\n",
    "\n",
    "# Train the model on the training data\n",
    "rf_model.fit(X_train, y_train)"
   ]
  },
  {
   "cell_type": "code",
   "execution_count": 122,
   "metadata": {},
   "outputs": [],
   "source": [
    "# Make predictions on the validation set\n",
    "y_val_pred = rf_model.predict(X_val)"
   ]
  },
  {
   "cell_type": "code",
   "execution_count": 123,
   "metadata": {},
   "outputs": [
    {
     "name": "stdout",
     "output_type": "stream",
     "text": [
      "Mean Squared Error: 6039981166215941.0\n",
      "R-squared Score: 0.7207636083514162\n"
     ]
    }
   ],
   "source": [
    "from sklearn.metrics import mean_squared_error, r2_score\n",
    "\n",
    "# Calculate evaluation metrics\n",
    "mse = mean_squared_error(y_val, y_val_pred)\n",
    "r2 = r2_score(y_val, y_val_pred)\n",
    "\n",
    "print(\"Mean Squared Error:\", mse)\n",
    "print(\"R-squared Score:\", r2)\n"
   ]
  },
  {
   "cell_type": "code",
   "execution_count": 124,
   "metadata": {},
   "outputs": [],
   "source": [
    "from sklearn.model_selection import GridSearchCV\n",
    "\n",
    "# Define hyperparameters grid\n",
    "param_grid = {\n",
    "    'n_estimators': [50, 100, 200],\n",
    "    'max_depth': [None, 10, 20],\n",
    "    'min_samples_split': [2, 5, 10]\n",
    "}\n",
    "\n",
    "# Initialize GridSearchCV\n",
    "grid_search = GridSearchCV(estimator=RandomForestRegressor(random_state=42),\n",
    "                           param_grid=param_grid,\n",
    "                           cv=5,\n",
    "                           scoring='neg_mean_squared_error')\n",
    "\n",
    "# Perform Grid Search\n",
    "grid_search.fit(X_train, y_train)\n",
    "\n",
    "# Get the best hyperparameters\n",
    "best_params = grid_search.best_params_\n",
    "\n",
    "# Initialize the model with the best hyperparameters\n",
    "best_rf_model = RandomForestRegressor(**best_params, random_state=42)\n",
    "\n",
    "# Train the model on the entire training data\n",
    "best_rf_model.fit(X_train, y_train)\n"
   ]
  },
  {
   "cell_type": "code",
   "execution_count": null,
   "metadata": {},
   "outputs": [],
   "source": [
    "# Make predictions on the validation set using the tuned model\n",
    "y_val_pred_tuned = best_rf_model.predict(X_val)\n",
    "\n",
    "# Calculate evaluation metrics for the tuned model\n",
    "mse_tuned = mean_squared_error(y_val, y_val_pred_tuned)\n",
    "r2_tuned = r2_score(y_val, y_val_pred_tuned)\n",
    "\n",
    "print(\"Tuned Model Mean Squared Error:\", mse_tuned)\n",
    "print(\"Tuned Model R-squared Score:\", r2_tuned)\n"
   ]
  },
  {
   "cell_type": "markdown",
   "metadata": {},
   "source": [
    "decision trees"
   ]
  },
  {
   "cell_type": "code",
   "execution_count": null,
   "metadata": {},
   "outputs": [],
   "source": [
    "from sklearn.tree import DecisionTreeRegressor\n",
    "\n",
    "# Initialize Decision Tree model\n",
    "dt_model = DecisionTreeRegressor(max_depth=3, random_state=42)\n",
    "\n",
    "# Train the model on the training data\n",
    "dt_model.fit(X_train, y_train)"
   ]
  },
  {
   "cell_type": "code",
   "execution_count": null,
   "metadata": {},
   "outputs": [],
   "source": [
    "# Make predictions on the validation set\n",
    "y_val_pred_dt = dt_model.predict(X_val)"
   ]
  },
  {
   "cell_type": "code",
   "execution_count": null,
   "metadata": {},
   "outputs": [],
   "source": [
    "from sklearn.metrics import mean_squared_error, r2_score\n",
    "\n",
    "# Calculate evaluation metrics\n",
    "mse_dt = mean_squared_error(y_val, y_val_pred_dt)\n",
    "r2_dt = r2_score(y_val, y_val_pred_dt)\n",
    "\n",
    "print(\"Decision Tree Mean Squared Error:\", mse_dt)\n",
    "print(\"Decision Tree R-squared Score:\", r2_dt)"
   ]
  },
  {
   "cell_type": "code",
   "execution_count": null,
   "metadata": {},
   "outputs": [],
   "source": [
    "from sklearn.model_selection import GridSearchCV\n",
    "\n",
    "# Define hyperparameters grid\n",
    "param_grid = {\n",
    "    'max_depth': [3, 5, 10],\n",
    "    'min_samples_split': [2, 5, 10]\n",
    "}\n",
    "\n",
    "# Initialize GridSearchCV\n",
    "grid_search_dt = GridSearchCV(estimator=DecisionTreeRegressor(random_state=42),\n",
    "                              param_grid=param_grid,\n",
    "                              cv=5,\n",
    "                              scoring='neg_mean_squared_error')\n",
    "\n",
    "# Perform Grid Search\n",
    "grid_search_dt.fit(X_train, y_train)\n",
    "\n",
    "# Get the best hyperparameters\n",
    "best_params_dt = grid_search_dt.best_params_\n",
    "\n",
    "# Initialize the model with the best hyperparameters\n",
    "best_dt_model = DecisionTreeRegressor(**best_params_dt, random_state=42)\n",
    "\n",
    "# Train the model on the entire training data\n",
    "best_dt_model.fit(X_train, y_train)\n"
   ]
  },
  {
   "cell_type": "code",
   "execution_count": null,
   "metadata": {},
   "outputs": [],
   "source": [
    "# Make predictions on the validation set using the tuned model\n",
    "y_val_pred_dt_tuned = best_dt_model.predict(X_val)\n",
    "\n",
    "# Calculate evaluation metrics for the tuned model\n",
    "mse_dt_tuned = mean_squared_error(y_val, y_val_pred_dt_tuned)\n",
    "r2_dt_tuned = r2_score(y_val, y_val_pred_dt_tuned)\n",
    "\n",
    "print(\"Tuned Decision Tree Mean Squared Error:\", mse_dt_tuned)\n",
    "print(\"Tuned Decision Tree R-squared Score:\", r2_dt_tuned)\n"
   ]
  }
 ],
 "metadata": {
  "kernelspec": {
   "display_name": "Python 3",
   "language": "python",
   "name": "python3"
  },
  "language_info": {
   "codemirror_mode": {
    "name": "ipython",
    "version": 3
   },
   "file_extension": ".py",
   "mimetype": "text/x-python",
   "name": "python",
   "nbconvert_exporter": "python",
   "pygments_lexer": "ipython3",
   "version": "3.11.2"
  }
 },
 "nbformat": 4,
 "nbformat_minor": 2
}
