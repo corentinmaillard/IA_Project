{
 "cells": [
  {
   "cell_type": "markdown",
   "metadata": {},
   "source": [
    "# ML Project : Predicting Movie Revenue\n",
    "Made by:\n",
    "\n",
    "Corentin Maillard 21306\n",
    "\n",
    "Mourad Mettioui 195019"
   ]
  },
  {
   "cell_type": "markdown",
   "metadata": {},
   "source": [
    "## A) Data Understanding and analysis"
   ]
  },
  {
   "cell_type": "markdown",
   "metadata": {},
   "source": [
    "### 1) Load the Dataset and libraries"
   ]
  },
  {
   "cell_type": "code",
   "execution_count": 152,
   "metadata": {},
   "outputs": [],
   "source": [
    "import pandas as pd\n",
    "import matplotlib.pyplot as plt\n",
    "import seaborn as sns\n",
    "\n",
    "dataset_file_path = 'dataset.csv'\n",
    "dataset_supplement_file_path = 'dataset_supplement.csv'\n",
    "# transform the first collum into an index\n",
    "dataset_data = pd.read_csv(dataset_file_path, index_col=0)\n",
    "dataset_supplement_data = pd.read_csv(dataset_supplement_file_path, index_col=0)\n",
    "\n",
    "dataset_supplement_data.drop(columns=['title'], inplace=True)\n",
    "left = dataset_data.set_index(['id'])\n",
    "right = dataset_supplement_data.set_index(['movie_id'])\n",
    "data_combind = left.join(right)\n",
    "# data_combind.set_index(['id'])\n",
    "data_combind = data_combind.sort_values(by = 'id')\n"
   ]
  },
  {
   "cell_type": "markdown",
   "metadata": {},
   "source": [
    "### 2) Undersand the structure of the dataset"
   ]
  },
  {
   "cell_type": "code",
   "execution_count": 181,
   "metadata": {},
   "outputs": [],
   "source": [
    "# examine the contents of the resultant Dataset using the head() command, which grabs the first five rows:\n",
    "data_combind"
   ]
  },
  {
   "cell_type": "markdown",
   "metadata": {},
   "source": [
    "We can see the different features which are:\n",
    "- vote count\n",
    "- vote average\n",
    "- title\n",
    "- tagline\n",
    "- status\n",
    "- spoken languages\n",
    "- duration\n",
    "- release\n",
    "- countries_of_production\n",
    "- production\n",
    "- popularity\n",
    "- overview\n",
    "- original_title\n",
    "- original_language\n",
    "- keywords\n",
    "- id\n",
    "- homepage\n",
    "- genres\n",
    "- financial_investment\n",
    "- actors\n",
    "- production_crew\n",
    "\n",
    "And we have the target : \n",
    "- revenue"
   ]
  },
  {
   "cell_type": "code",
   "execution_count": 123,
   "metadata": {},
   "outputs": [
    {
     "name": "stdout",
     "output_type": "stream",
     "text": [
      "<class 'pandas.core.frame.DataFrame'>\n",
      "Index: 4803 entries, 5 to 459488\n",
      "Data columns (total 21 columns):\n",
      " #   Column                   Non-Null Count  Dtype  \n",
      "---  ------                   --------------  -----  \n",
      " 0   vote_count               4803 non-null   int64  \n",
      " 1   vote_average             4323 non-null   float64\n",
      " 2   title                    4803 non-null   object \n",
      " 3   tagline                  3959 non-null   object \n",
      " 4   status                   4803 non-null   object \n",
      " 5   spoken_languages         4803 non-null   object \n",
      " 6   duration                 4801 non-null   float64\n",
      " 7   revenue                  4755 non-null   float64\n",
      " 8   release                  4802 non-null   object \n",
      " 9   countries_of_production  4803 non-null   object \n",
      " 10  production               4803 non-null   object \n",
      " 11  popularity               4803 non-null   float64\n",
      " 12  overview                 4800 non-null   object \n",
      " 13  original_title           4803 non-null   object \n",
      " 14  original_language        4563 non-null   object \n",
      " 15  keywords                 4803 non-null   object \n",
      " 16  homepage                 1712 non-null   object \n",
      " 17  genres                   4803 non-null   object \n",
      " 18  financial_investment     4419 non-null   float64\n",
      " 19  actors                   4803 non-null   object \n",
      " 20  production_crew          4803 non-null   object \n",
      "dtypes: float64(5), int64(1), object(15)\n",
      "memory usage: 954.6+ KB\n"
     ]
    },
    {
     "data": {
      "text/plain": [
       "vote_count                    0\n",
       "vote_average                480\n",
       "title                         0\n",
       "tagline                     844\n",
       "status                        0\n",
       "spoken_languages              0\n",
       "duration                      2\n",
       "revenue                      48\n",
       "release                       1\n",
       "countries_of_production       0\n",
       "production                    0\n",
       "popularity                    0\n",
       "overview                      3\n",
       "original_title                0\n",
       "original_language           240\n",
       "keywords                      0\n",
       "homepage                   3091\n",
       "genres                        0\n",
       "financial_investment        384\n",
       "actors                        0\n",
       "production_crew               0\n",
       "dtype: int64"
      ]
     },
     "execution_count": 123,
     "metadata": {},
     "output_type": "execute_result"
    }
   ],
   "source": [
    "# we are going to see if all the data that we have are complete\n",
    "data_combind.info()\n",
    "# we can also use the isnull().sum() to see directly how many data are missing\n",
    "data_combind.isnull().sum()"
   ]
  },
  {
   "cell_type": "markdown",
   "metadata": {},
   "source": [
    "We can see that they are only 1712 non-null homepage on 4803 entires, so we will discard this feature because they are too many missing datas.\n",
    "\n",
    "For the other features, we can see if they are complete or not"
   ]
  },
  {
   "cell_type": "code",
   "execution_count": 139,
   "metadata": {},
   "outputs": [
    {
     "data": {
      "text/plain": [
       "vote_count                 1609\n",
       "vote_average                 70\n",
       "title                      4800\n",
       "tagline                    3944\n",
       "status                        3\n",
       "spoken_languages            544\n",
       "duration                    156\n",
       "revenue                    3268\n",
       "release                    3280\n",
       "countries_of_production     469\n",
       "production                 3697\n",
       "popularity                 4802\n",
       "overview                   4800\n",
       "original_title             4801\n",
       "original_language            37\n",
       "keywords                   4222\n",
       "homepage                   1691\n",
       "genres                     1175\n",
       "financial_investment        412\n",
       "actors                     4761\n",
       "production_crew            4776\n",
       "dtype: int64"
      ]
     },
     "execution_count": 139,
     "metadata": {},
     "output_type": "execute_result"
    }
   ],
   "source": [
    "# we are going to see if all the data are different or not\n",
    "data_combind.nunique()"
   ]
  },
  {
   "cell_type": "code",
   "execution_count": 135,
   "metadata": {},
   "outputs": [
    {
     "name": "stdout",
     "output_type": "stream",
     "text": [
      "<class 'pandas.core.frame.DataFrame'>\n",
      "Index: 4803 entries, 5 to 459488\n",
      "Data columns (total 20 columns):\n",
      " #   Column                   Non-Null Count  Dtype  \n",
      "---  ------                   --------------  -----  \n",
      " 0   vote_count               4803 non-null   int64  \n",
      " 1   vote_average             4323 non-null   float64\n",
      " 2   title                    4803 non-null   object \n",
      " 3   tagline                  3959 non-null   object \n",
      " 4   status                   4803 non-null   object \n",
      " 5   spoken_languages         4803 non-null   object \n",
      " 6   duration                 4801 non-null   float64\n",
      " 7   revenue                  4755 non-null   float64\n",
      " 8   release                  4802 non-null   object \n",
      " 9   countries_of_production  4803 non-null   object \n",
      " 10  production               4803 non-null   object \n",
      " 11  popularity               4803 non-null   float64\n",
      " 12  overview                 4800 non-null   object \n",
      " 13  original_title           4803 non-null   object \n",
      " 14  original_language        4563 non-null   object \n",
      " 15  keywords                 4803 non-null   object \n",
      " 16  genres                   4803 non-null   object \n",
      " 17  financial_investment     4419 non-null   float64\n",
      " 18  actors                   4803 non-null   object \n",
      " 19  production_crew          4803 non-null   object \n",
      "dtypes: float64(5), int64(1), object(14)\n",
      "memory usage: 917.0+ KB\n"
     ]
    }
   ],
   "source": [
    "# we will drop the id because it is not an information that will ever be seen by the custommer.\n",
    "# So we can assume that it is not an important feature for our model.\n",
    "# data_combind.drop(columns=['id'], inplace=True)\n",
    "data_combind.drop(columns=['homepage'], inplace=True)\n",
    "data_combind.info()"
   ]
  },
  {
   "cell_type": "markdown",
   "metadata": {},
   "source": [
    "### 3) Perform Exploratory Data Analysis (EDA)"
   ]
  },
  {
   "cell_type": "code",
   "execution_count": 147,
   "metadata": {},
   "outputs": [
    {
     "data": {
      "text/html": [
       "<div>\n",
       "<style scoped>\n",
       "    .dataframe tbody tr th:only-of-type {\n",
       "        vertical-align: middle;\n",
       "    }\n",
       "\n",
       "    .dataframe tbody tr th {\n",
       "        vertical-align: top;\n",
       "    }\n",
       "\n",
       "    .dataframe thead th {\n",
       "        text-align: right;\n",
       "    }\n",
       "</style>\n",
       "<table border=\"1\" class=\"dataframe\">\n",
       "  <thead>\n",
       "    <tr style=\"text-align: right;\">\n",
       "      <th></th>\n",
       "      <th>vote_count</th>\n",
       "      <th>vote_average</th>\n",
       "      <th>duration</th>\n",
       "      <th>revenue</th>\n",
       "      <th>popularity</th>\n",
       "      <th>financial_investment</th>\n",
       "    </tr>\n",
       "  </thead>\n",
       "  <tbody>\n",
       "    <tr>\n",
       "      <th>count</th>\n",
       "      <td>4803.000000</td>\n",
       "      <td>4323.000000</td>\n",
       "      <td>4801.000000</td>\n",
       "      <td>4.755000e+03</td>\n",
       "      <td>4803.000000</td>\n",
       "      <td>4.419000e+03</td>\n",
       "    </tr>\n",
       "    <tr>\n",
       "      <th>mean</th>\n",
       "      <td>690.217989</td>\n",
       "      <td>6.090354</td>\n",
       "      <td>106.875859</td>\n",
       "      <td>8.231486e+07</td>\n",
       "      <td>21.492301</td>\n",
       "      <td>2.898466e+07</td>\n",
       "    </tr>\n",
       "    <tr>\n",
       "      <th>std</th>\n",
       "      <td>1234.585891</td>\n",
       "      <td>1.193315</td>\n",
       "      <td>22.611935</td>\n",
       "      <td>1.630872e+08</td>\n",
       "      <td>31.816650</td>\n",
       "      <td>4.065526e+07</td>\n",
       "    </tr>\n",
       "    <tr>\n",
       "      <th>min</th>\n",
       "      <td>0.000000</td>\n",
       "      <td>0.000000</td>\n",
       "      <td>0.000000</td>\n",
       "      <td>0.000000e+00</td>\n",
       "      <td>0.000000</td>\n",
       "      <td>0.000000e+00</td>\n",
       "    </tr>\n",
       "    <tr>\n",
       "      <th>25%</th>\n",
       "      <td>54.000000</td>\n",
       "      <td>5.600000</td>\n",
       "      <td>94.000000</td>\n",
       "      <td>0.000000e+00</td>\n",
       "      <td>4.668070</td>\n",
       "      <td>7.500000e+05</td>\n",
       "    </tr>\n",
       "    <tr>\n",
       "      <th>50%</th>\n",
       "      <td>235.000000</td>\n",
       "      <td>6.200000</td>\n",
       "      <td>103.000000</td>\n",
       "      <td>1.918402e+07</td>\n",
       "      <td>12.921594</td>\n",
       "      <td>1.480000e+07</td>\n",
       "    </tr>\n",
       "    <tr>\n",
       "      <th>75%</th>\n",
       "      <td>737.000000</td>\n",
       "      <td>6.800000</td>\n",
       "      <td>118.000000</td>\n",
       "      <td>9.311911e+07</td>\n",
       "      <td>28.313505</td>\n",
       "      <td>4.000000e+07</td>\n",
       "    </tr>\n",
       "    <tr>\n",
       "      <th>max</th>\n",
       "      <td>13752.000000</td>\n",
       "      <td>10.000000</td>\n",
       "      <td>338.000000</td>\n",
       "      <td>2.787965e+09</td>\n",
       "      <td>875.581305</td>\n",
       "      <td>3.800000e+08</td>\n",
       "    </tr>\n",
       "  </tbody>\n",
       "</table>\n",
       "</div>"
      ],
      "text/plain": [
       "         vote_count  vote_average     duration       revenue   popularity   \n",
       "count   4803.000000   4323.000000  4801.000000  4.755000e+03  4803.000000  \\\n",
       "mean     690.217989      6.090354   106.875859  8.231486e+07    21.492301   \n",
       "std     1234.585891      1.193315    22.611935  1.630872e+08    31.816650   \n",
       "min        0.000000      0.000000     0.000000  0.000000e+00     0.000000   \n",
       "25%       54.000000      5.600000    94.000000  0.000000e+00     4.668070   \n",
       "50%      235.000000      6.200000   103.000000  1.918402e+07    12.921594   \n",
       "75%      737.000000      6.800000   118.000000  9.311911e+07    28.313505   \n",
       "max    13752.000000     10.000000   338.000000  2.787965e+09   875.581305   \n",
       "\n",
       "       financial_investment  \n",
       "count          4.419000e+03  \n",
       "mean           2.898466e+07  \n",
       "std            4.065526e+07  \n",
       "min            0.000000e+00  \n",
       "25%            7.500000e+05  \n",
       "50%            1.480000e+07  \n",
       "75%            4.000000e+07  \n",
       "max            3.800000e+08  "
      ]
     },
     "execution_count": 147,
     "metadata": {},
     "output_type": "execute_result"
    }
   ],
   "source": [
    "data_combind.describe()"
   ]
  },
  {
   "cell_type": "code",
   "execution_count": 161,
   "metadata": {},
   "outputs": [],
   "source": [
    "# sns.pairplot(dataset_data)  # Visualize pairwise relationships using a pairplot\n",
    "# plt.show()"
   ]
  },
  {
   "cell_type": "markdown",
   "metadata": {},
   "source": [
    "We can see that that the revenue will be affected by:\n",
    "- the financial investment\n",
    "- the vote count\n",
    "\n",
    "For the other features (vote average, duration, popularity), it is not really visible the impact they have an the revenue\n",
    "\n",
    "We can see that the vote average is affected by:\n",
    "- the vote count\n",
    "- the financial investment\n",
    "\n",
    "We can see a big problem, that is the feature that are not number cannot be used to make an EDA with the way I make it."
   ]
  },
  {
   "cell_type": "markdown",
   "metadata": {},
   "source": [
    "We will use the one hot encoding approach that generally perform best on:\n",
    "- the country_of_production\n",
    "- the spoken_languages\n",
    "- genres\n",
    "- status\n",
    "- original_language\n",
    "\n",
    "For the feature like the title, tagline, overview, original_title we know that they can have an influence on the renenue but they are to complexe to exploit so we will discard them"
   ]
  },
  {
   "cell_type": "code",
   "execution_count": 180,
   "metadata": {},
   "outputs": [],
   "source": [
    "\n",
    "import json\n",
    "\n",
    "def extract_iso(df, col_name, iso_num):\n",
    "    collone_brut = df[col_name]\n",
    "    \n",
    "    for i in df.index:\n",
    "        langperligne = []\n",
    "        lst = json.loads(collone_brut[i])\n",
    "        for item in lst:\n",
    "            langperligne.append(item[iso_num])\n",
    "        collone_brut[i] = ','.join(langperligne)\n",
    "    \n",
    "    return collone_brut\n",
    "\n",
    "# Utilisez la fonction avec le nom de la colonne et le numéro d'ISO\n",
    "\n",
    "# extract_iso(data_combind, 'countries_of_production', 'iso_3166_1')\n",
    "# extract_iso(data_combind, 'spoken_languages', 'iso_639_1')\n",
    "# extract_iso(data_combind, 'keywords', 'name')\n",
    "# extract_iso(data_combind, 'genres', 'name')\n",
    "# extract_iso(data_combind, 'actors', 'name')\n",
    "# extract_iso(data_combind, 'production_crew', 'name')\n",
    "# extract_iso(data_combind, 'production', 'name')\n",
    "\n",
    "\n",
    "\n",
    "\n",
    "\n",
    "data_combind\n",
    "\n",
    "# print(data_combind.nunique())"
   ]
  },
  {
   "cell_type": "code",
   "execution_count": null,
   "metadata": {},
   "outputs": [],
   "source": []
  },
  {
   "cell_type": "code",
   "execution_count": null,
   "metadata": {},
   "outputs": [],
   "source": []
  }
 ],
 "metadata": {
  "kernelspec": {
   "display_name": "Python 3",
   "language": "python",
   "name": "python3"
  },
  "language_info": {
   "codemirror_mode": {
    "name": "ipython",
    "version": 3
   },
   "file_extension": ".py",
   "mimetype": "text/x-python",
   "name": "python",
   "nbconvert_exporter": "python",
   "pygments_lexer": "ipython3",
   "version": "3.11.5"
  }
 },
 "nbformat": 4,
 "nbformat_minor": 2
}
